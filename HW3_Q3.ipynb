{
  "cells": [
    {
      "cell_type": "markdown",
      "metadata": {
        "id": "UtIXRmMJicy3"
      },
      "source": [
        "### Problem 3"
      ]
    },
    {
      "cell_type": "code",
      "execution_count": 3,
      "metadata": {
        "id": "EHI-UQUU03Gw"
      },
      "outputs": [],
      "source": [
        "import nbformat\n",
        "\n",
        "notebook_path = \"/content/drive/MyDrive/master year 1 section 2/deep learning/hw3/HW3-Q3.ipynb\"\n",
        "\n",
        "with open(notebook_path, \"r\", encoding=\"utf-8\") as f:\n",
        "    nb = nbformat.read(f, as_version=4)\n",
        "\n",
        "if \"widgets\" in nb[\"metadata\"]:\n",
        "    del nb[\"metadata\"][\"widgets\"]\n",
        "\n",
        "with open(notebook_path, \"w\", encoding=\"utf-8\") as f:\n",
        "    nbformat.write(nb, f)\n",
        "\n"
      ]
    },
    {
      "cell_type": "markdown",
      "metadata": {
        "id": "5ABcCQTOIacZ"
      },
      "source": [
        "### Import labiray"
      ]
    },
    {
      "cell_type": "code",
      "execution_count": null,
      "metadata": {
        "id": "9F377DzEIW2O"
      },
      "outputs": [],
      "source": [
        "import torch\n",
        "import torch.nn as nn\n",
        "import torch.optim as optim\n",
        "import torchvision\n",
        "import torchvision.transforms as transforms\n",
        "import matplotlib.pyplot as plt\n",
        "import numpy as np"
      ]
    },
    {
      "cell_type": "markdown",
      "metadata": {
        "id": "s8sNJKM_gX5C"
      },
      "source": [
        "### prepairing Data\n",
        "Set a fixed random seed for reproducibility and check if a GPU is available for faster training.\n",
        "The FashionMNIST dataset is loaded using torchvision with built-in normalization to scale pixel values\n",
        "from [0, 1] to [-1, 1], which matches the expected input range for the generator's tanh output.\n",
        "The dataset consists of 28×28 grayscale images (1 channel), and is loaded into a DataLoader with\n",
        "a batch size of 64 and shuffling enabled to ensure random sampling during each epoch."
      ]
    },
    {
      "cell_type": "code",
      "execution_count": null,
      "metadata": {
        "id": "FVuvOf84Idsl"
      },
      "outputs": [],
      "source": [
        "\n",
        "# Set random seeds\n",
        "torch.manual_seed(42)\n",
        "\n",
        "# Check device\n",
        "device = torch.device(\"cuda\" if torch.cuda.is_available() else \"cpu\")\n",
        "\n",
        "# Load FashionMNIST data\n",
        "\n",
        "transform = transforms.Compose([\n",
        "    transforms.ToTensor(),\n",
        "    transforms.Normalize((0.5,), (0.5,))  # Normalize to [-1, 1]\n",
        "])\n",
        "\n",
        "# This dataset loads images in grayscale (1 channel). All images are 28×28 pixels in size by default.\n",
        "\n",
        "train_data = torchvision.datasets.FashionMNIST(root='./data', train=True, download=True, transform=transform)\n",
        "dataloader = torch.utils.data.DataLoader(train_data, batch_size=64, shuffle=True)"
      ]
    },
    {
      "cell_type": "markdown",
      "metadata": {
        "id": "A3Gh6PXRTO01"
      },
      "source": [
        "### Define the Discriminator\n",
        "The Discriminator is a convolutional neural network that takes a 28×28 grayscale image as input\n",
        "and outputs a single scalar probability indicating whether the image is real or generated (fake).\n",
        "It consists of two convolutional layers with 5×5 kernels, stride 2, and padding 2, reducing the input\n",
        "spatial dimensions from 28×28 → 14×14 → 7×7. Each conv layer is followed by a LeakyReLU activation\n",
        "(with a negative slope of 0.3) and dropout (with probability 0.3) for regularization.\n",
        "The output is flattened and passed through a fully connected layer to produce a scalar between 0 and 1\n",
        "using a sigmoid activation, suitable for binary classification."
      ]
    },
    {
      "cell_type": "code",
      "execution_count": null,
      "metadata": {
        "id": "wJhlKBVqIqtk"
      },
      "outputs": [],
      "source": [
        "\n",
        "# Define the Discriminator\n",
        "\n",
        "class Discriminator(nn.Module):\n",
        "    def __init__(self):\n",
        "        super(Discriminator, self).__init__()\n",
        "        self.main = nn.Sequential(\n",
        "            nn.Conv2d(1, 64, 5, stride=2, padding=2), # (1×28×28) → (64×14×14)\n",
        "            nn.LeakyReLU(0.3),\n",
        "            nn.Dropout(0.3),\n",
        "\n",
        "            nn.Conv2d(64, 128, 5, stride=2, padding=2), # (64×14×14) → (128×7×7)\n",
        "            nn.LeakyReLU(0.3),\n",
        "            nn.Dropout(0.3),\n",
        "\n",
        "            nn.Flatten(),\n",
        "            nn.Linear(128*7*7, 1),\n",
        "            nn.Sigmoid()\n",
        "        )\n",
        "\n",
        "    def forward(self, x):\n",
        "        return self.main(x)"
      ]
    },
    {
      "cell_type": "markdown",
      "metadata": {
        "id": "Z6cP7vJbg3KC"
      },
      "source": [
        "### Define the Generator\n",
        "The Generator is a neural network that maps a 100-dimensional latent vector (sampled from a unit Gaussian)\n",
        "to a synthetic 28×28 grayscale image. It begins with a fully connected layer (without bias) that transforms\n",
        "the latent vector into a feature map of shape (256, 7, 7). This is followed by a sequence of transpose\n",
        "convolutional layers (ConvTranspose2d) that progressively upsample the feature map to the final image size.\n",
        "Each transpose convolution (except the last) is followed by Batch Normalization and a LeakyReLU activation\n",
        "with a negative slope of 0.3. The final layer outputs a single-channel image with tanh activation to ensure\n",
        "pixel values lie in the range [-1, 1], matching the normalized input of the discriminator."
      ]
    },
    {
      "cell_type": "code",
      "execution_count": null,
      "metadata": {
        "id": "aZgRVWp2Is0E"
      },
      "outputs": [],
      "source": [
        "# Define the Generator\n",
        "\n",
        "class Generator(nn.Module):\n",
        "    def __init__(self):\n",
        "        super(Generator, self).__init__()\n",
        "        self.linear = nn.Linear(100, 256*7*7, bias=False)\n",
        "\n",
        "        self.conv_blocks = nn.Sequential(\n",
        "            nn.BatchNorm2d(256),\n",
        "            nn.LeakyReLU(0.3),\n",
        "\n",
        "            nn.ConvTranspose2d(256, 128, 5, stride=1, padding=2, bias=False),\n",
        "            nn.BatchNorm2d(128),\n",
        "            nn.LeakyReLU(0.3),\n",
        "\n",
        "            nn.ConvTranspose2d(128, 64, 5, stride=2, padding=2, output_padding=1, bias=False),\n",
        "            nn.BatchNorm2d(64),\n",
        "            nn.LeakyReLU(0.3),\n",
        "\n",
        "            nn.ConvTranspose2d(64, 1, 5, stride=2, padding=2, output_padding=1, bias=False),\n",
        "            nn.Tanh()\n",
        "        )\n",
        "\n",
        "    def forward(self, x):\n",
        "        x = self.linear(x).view(-1, 256, 7, 7)\n",
        "        return self.conv_blocks(x)\n"
      ]
    },
    {
      "cell_type": "markdown",
      "metadata": {
        "id": "6FMIZcb0hKHl"
      },
      "source": [
        "### initializing\n",
        "Instantiate the Discriminator (D) and Generator (G) models and move them to the selected device (GPU or CPU).\n",
        "The binary cross-entropy loss (BCELoss) is used for both models, appropriate for binary classification tasks\n",
        "(i.e., real vs. fake discrimination).\n",
        "The Adam optimizer is used for both D and G with a learning rate of 1e-4, which provides efficient and stable\n",
        "training dynamics for GANs."
      ]
    },
    {
      "cell_type": "code",
      "execution_count": null,
      "metadata": {
        "id": "BadvRU52IwN7"
      },
      "outputs": [],
      "source": [
        "# Initialize models, loss, optimizer\n",
        "\n",
        "D = Discriminator().to(device)\n",
        "G = Generator().to(device)\n",
        "\n",
        "criterion = nn.BCELoss()\n",
        "d_optimizer = optim.Adam(D.parameters(), lr=1e-4)\n",
        "g_optimizer = optim.Adam(G.parameters(), lr=1e-4)"
      ]
    },
    {
      "cell_type": "markdown",
      "metadata": {
        "id": "L9atCGAuhOD7"
      },
      "source": [
        "### Training and showing\n",
        "This is the main training loop for the DCGAN, which runs for 50 epochs.\n",
        "For each epoch, the model iterates over batches of real images from the FashionMNIST dataset.\n",
        "The Discriminator is trained to distinguish real images from fake ones generated by the Generator,\n",
        "using binary cross-entropy loss with target labels of 1 (real) and 0 (fake).\n",
        "The Generator is trained to fool the Discriminator by generating images that are classified as real,\n",
        "using the same loss function but with target labels of 1 for its generated outputs.\n",
        "A fixed set of latent vectors (fixed_noise) is used to generate images at epochs 10, 30, and 50\n",
        "to visually track training progress. A tqdm progress bar is included to display real-time losses."
      ]
    },
    {
      "cell_type": "code",
      "execution_count": null,
      "metadata": {
        "colab": {
          "base_uri": "https://localhost:8080/",
          "height": 1000,
          "referenced_widgets": [
            "af8c0b2310c44b53a362a132de512c85",
            "51f4d3e29bbf44479a18a75a30307406",
            "f074046e332e4cf094c09863d40a508c",
            "aa6c6f28e1114ce7add2353dfbb73edb",
            "0e0dc4d7e11c40ecb19333d56bc917fc",
            "bc3eedf70a7f41a7a25c458d9d6b5f41",
            "bcd329d0b8a1443297b2217e021e0a30",
            "ce95011e18634e9ba27e2a3269bd69e1",
            "d0060a1398714b4abcf8227c0920b420",
            "baf6497f437141b6ab9fa00efd7e1102",
            "98b5bd226f4647f0a34a5c2b05e68960",
            "92e251510bc34f099b5fbf5682a26dca",
            "c0a0c5cf764746eda1954cdfa92beba9",
            "0f4d2d828d6e4c269ca643d8634d1bdb",
            "1771e186342646ea8703f2f1247f9355",
            "c64da3a6bf7447fcb8c9577019925650",
            "4c15d9e5200e4dec8b095a75af0cb7b3",
            "6c9a3e6b408f4e0983357e2a3997b965",
            "4eebe05a5b754f00ba1cfeb2513cac01",
            "e6190e6bbd6e4ec4a8eb8ddda5be0f41",
            "1f5547c2fb3c421aa74ce96f55f9ed67",
            "28f1f4d2b5ef4157b5ee1a27fcd5a2c7",
            "70061157db144f038cb5ed03ec7c3f7e",
            "548d5309ab2a4114a0d41071c8369593",
            "6e867917a3ab447aaf3581a485044edc",
            "e9e5208e87cf4c8b954b08e44e2eea94",
            "9b4dbfa37d284913aaebc0b138dc70e7",
            "8b157a59733d481a9637b51a34f5d2f2",
            "efc010a07908454f9600f0c6936d23f0",
            "22e141ee14bc4a11bdbe5161e176b61e",
            "b3fd645528964c23925f4cac447a7ee1",
            "6f23e0fbd1bd4fb99f06fa3c14e10e01",
            "f66ba519dd1a4607b568127d0210a7f9",
            "a60f37b2b4484e0bac718e6bc36e7cbd",
            "e5aa7f85b1734d58ad5937e26a87d31e",
            "249759028b8d4bcdaa481738f5f9dc26",
            "9bae9079187142b2be126189e22d846c",
            "545baa56a0154a5d9fe331ff2b5c00e3",
            "1930617572144e81828eb83e1798d503",
            "e4930de709ee4fdc8b2bfec17fae71c8",
            "65635537a3384d6da55b8d4831177280",
            "05818e38356e48f5a9ef86374166a805",
            "37ab8b035152470194f2632c6cd54654",
            "7dfb9bdc5a774fc1833b31f400986979",
            "4e927c5e6ece40c5ba9d4c482b2995ef",
            "a718a53e431740479af8736f08ca1410",
            "23887c39d3a549eabe7686306bc4252b",
            "85c607ff24f745b18f37dd3ba41b90a8",
            "9dadc7cfd0884dc6a743a29a44bad24e",
            "23f868d70455418abeab3ba44131fb62",
            "c1f8502908ce480995c327e08dd73d98",
            "2686d32445da455f8fccd6e374627191",
            "63e9ac4d280042f38d87f96a5a4f5522",
            "ff516059d73c437fb227b9878c6076ee",
            "5152e5edc6524c73a2587f3cc9a9ad9b",
            "697ae22c68524a1b9c38bbd2193cdb6a",
            "f20d3b7a09fd4d7ab46ea342fbbd6807",
            "07dbb806988c40d4933d46556a205304",
            "5ab7e77dd3394fb2ad166a881c7729b5",
            "0fce1782c2574874919a4ad223598699",
            "c82eaa40fec945ba9e0a591d4677cc3f",
            "50d33fec0aec4a8597807d7fd2645241",
            "f6ca0c6ca8da44caaf1521a4184940cb",
            "0e497c65e5b747778925779a44c9c21d",
            "4a05408e04514e6b9f7e7b6ec518b01c",
            "a6a7d6d84c104524aba73bcf625f5784",
            "1a010ba26d724f47883a3f835399368c",
            "56d97cef85a14f09801b4bc1ffe678f3",
            "aed5c58927b8402a9372f6afe71f430a",
            "422d876b11a3422a9171f852a21ef5a2",
            "0cf4c7b57c53433a8916ddfdad5c1d27",
            "c9d5227881fd49e1b497f9d450b32c32",
            "b4910cee01c34eb4ad0bd5f6bbd89e85",
            "d248bec84ecd40d2b8f6183d903a1913",
            "11b31503b603469e96662d859fb820e3",
            "b6e4a32584624036b404ed0ef8c30ea2",
            "d974b062c8c04feb9e374f6b656acba5",
            "f256403d35594481b52771ce7c29ed9c",
            "a47db374d82e4c3b8b32f50b518f892f",
            "05939e3793484b7c8f90e6a38c3e5cf3",
            "7236ef950c4544d69a3d3d754ecd65b5",
            "cf1a458ebd244a138b12ffb40d91cb9a",
            "53b9043a0ca44aa792fc7497f0fd191d",
            "12c62299537c49b68f5d3b10fd0b5815",
            "aa75b4a5e3fc4b53bbf751773826e15c",
            "5483314b8be54317a1d4a3c301ab1bbb",
            "e3c31db6323e4a5884fb8054c473c598",
            "85faebed59c94cfcb49be0ecf658f4d9",
            "ede067d7b1554ce499e1c484226c07d4",
            "73264c123bb0475eb8462b84660bba91",
            "ea47a6c536c1407893b05030254a4029",
            "55a8a11a98574fce9346ac89a61483f1",
            "6f09d87f17b54f2c93e26c935cb74ea6",
            "103fe4972d91471e810fe58e34935baa",
            "c86567a5f775477099b848df2c15ad06",
            "e5e593a6acc545078f79fd9f25b87035",
            "245fcf9603ee47878b635d6f9956fd1b",
            "7683f4df320e4d8fba53df37b314bb36",
            "35dc340dfe39467f9cf72ccc68836fd1",
            "811798255aa84574966ce5265e2b62da",
            "3b2e1c2e06aa4db3a50b49d938ec59df",
            "911048276da4483fa4644c755ea02956",
            "8c38c2a4c16a46c7ae0a9679dcd3619a",
            "58c6c53282114b6bb8e5702f3876dfbd",
            "2bf7c82c353d4f2d9e8350773e8f0851",
            "d21f6898a6ab44b199d5b5c8ecc6720c",
            "62955cf932f448e4a7b6e7b25e40e8aa",
            "a1054ae8d7774a5a9fa3df2afc4ce22a",
            "8e11124a4fc84ea486f16f116a1ca95f",
            "7d2c22f9f0a04e918da621d4d4309d1a",
            "2f774ca22e89492f8d7ae741e393a752",
            "3ca6ecc2bc464dc5a4b1cb6d92634caa",
            "6c1a409663a84032a88786780e240d7d",
            "9d3dcfbab6d44981bf0ec9d284e81759",
            "6606ad74b69448e28bdd7879473fe9ea",
            "4e9d6368235d440eaf77118e1a833c6d",
            "45da76845d56452e96dab30164f09e01",
            "48268e2a44d144d78ba61e48635eae5a",
            "ba1827ebdae541fe85da27e3c5585b59",
            "7ae4636320104e69bf79d98b956b25ff",
            "5566f39e0bbd4c1c891bdf0e9a08da69",
            "3c84a9e785814ed2a2eeb852ce2e05d6",
            "549d2d680bc24b2d9490ed6f0c7184bd",
            "fc4c90a9187c4a8ab729a2fba6c4f8f5",
            "1301987f23b247b6b832b1899688cc85",
            "4c1927abe59d42c5919180f15def5cfa",
            "fd4a112bac7e4796aeeaf4fd49da07e9",
            "e3121406b51f469eb0f1ddd772304158",
            "3b56a233603a452382c7aa5abdd837e3",
            "228395c33e804730985ec2fb0aae4724",
            "a96f95cc65d14c5a806786297ace0a53",
            "d47d4149766f4c08bab51aed33cf0446",
            "47d8ba661d6844b6aa545dcaac206b91",
            "1c8baff662974aaca0bb282c77138e6c",
            "b7d4829eebcc4858ad91ab1a6deee5bd",
            "006582d79bed45fea409eda85b0f9ff6",
            "44b2a5731f774645b11da71577a8194e",
            "5b314399ee0c4254936e8aab95bf356f",
            "46eaeebf05aa47aaa0d2cea12c4e01b0",
            "1030d7c3ac4e43fc9750239e0693bd91",
            "1c706e4bce314028a5b14a4715721bfe",
            "a8476de9115f422d9470c13bb62af820",
            "977db9f3ad724558a419cc1c79707b9e",
            "489891a20f6f4c48baad78fa7fbb37d6",
            "c60efa0046604fc785a89ef638f8deef",
            "4c5657fe36564826804b31d11ed860f6",
            "8c5b232b5e1642e78655122d5fe4a42e",
            "0d2bc873266342eb99e92cecea50efaa",
            "dc301d83fd224835bdad2d570a2a8da3",
            "22d7bbb69ee04652ab2bf207440414c8",
            "7d6bd5c0ab3a45cfabb2257098d268b0",
            "529fb3dc83d649d38d2946c00aa61213",
            "30e9a96ac8534857a2918f3ab7163f7a",
            "a8728991c8b14151923cebc1c5345be7",
            "f27d863d2bfa44c5b59032af3fff5ed2",
            "28b86bfa83d342a0acba790e41d94b81",
            "aec3462433a04994ab3c256e6642787b",
            "83307b75a87b4aaab44a9f131b70d24c",
            "8de348d322e04c0cbcc41b70bfd34847",
            "157db92cb57440e7a3174771d29985e8",
            "bd3b94fc730a481aaee2036a9e650bac",
            "172f4aa8928b47ae9c0e74c639bbd048",
            "3a5049fca40e466eb938551671265238",
            "bd002e1c73fb4bfea0c1dbe74874e59a",
            "7f3a402af3b1457cbb60f2b41a0373f8",
            "28bcaed9926040d3b40b3aca627927a9",
            "3a7ede4864a7410aaccc91d4e318e21c",
            "2493f8703a4d47d6b63d0a69d60a3252",
            "1e3144bec6ca4d739df60237756c3e67",
            "0fea852dc1b042b7853a9eb393fd494a",
            "67933a8b8b2a495fab4ed16aaf219b49",
            "61d0d1c2e5d7433b89e759b4e83db78b",
            "f64cb6de61614067bf95c28792dcf375",
            "8377b2f7841e4f569174da8cce18d1f5",
            "d7a1200f0d0240509bdaa4c4044d9a45",
            "7ba7ac6b15d341b4914fc1c5285c8e74",
            "5decb24e02264f02b64b5e0b675f7ffc",
            "11b4f438b1e742a1aa9da78a579cbf37",
            "ee69877a1938497d943479e21394c82c",
            "39482c31db3b4fd3ae3bc7ced2c3d0b1",
            "bdfb3e42962f469b8b51124bdf745546",
            "d5c40dcef98147a48e96a0570d4c14d0",
            "7645ad846ac241c1aa94f1af5f590737",
            "0b48a4fbee8e46ef99be73a117fe1c80",
            "ce3c6e1e0b224bad9827bdd6fa1a6066",
            "78a6a218c11b4e99a2cccf45f97b0e77",
            "bd9761b7e94b41c5b0aa7db25bb3335c",
            "6720ee8c3626462880d8ab2d6db1b8b2",
            "d3ff1b1d68104afb9d63fe460097a524",
            "c076ea8889c14ef3b657c4371ed69ead",
            "8c3a0ff281164287a1c8db4e58b5fe50",
            "e54fecaf978c4013ac09624c0f7a30bc",
            "e6185c2339fc435fa9716e511171f07d",
            "fcba2e072a104a279bf47ece000183ca",
            "1950b0d4e0a2476a8c23b295d3fe46c7",
            "7559259453434cd7b7fa40e94b6dfb56",
            "46d2d7ae94ca42e1a08bf0ce576aa34e",
            "36b19a844ff3451485b54a28ff1e9430",
            "7657fa6187ae4d838290091a0b537e3b",
            "3a58fdcc7ddf4786a30c8911db22b93f",
            "75d7f94f68eb491a964a8d999e2a458f",
            "3be6a9b77e6f41b4a96e591338dbdea8",
            "c5075daedb31450f9f15f9489404f750",
            "e105bc15695a44ae8bdecbe68c4f997b",
            "de3ee907665e4823904f9753541a17c4",
            "b450494b836e462ebfbdc92baf03966c",
            "32c46b7d19a44001a1b26b8115c02dda",
            "d128969b267b44a294a621fa5d47e8b8",
            "c4d9ae6b6b164b85bed5b30a051a25fc",
            "434934f39c1a4965884cee8783c49216",
            "8a5250b4e73744eca202ab752ee24497",
            "42a18155b1a441698d5cc02db6d4b3ec",
            "f753af87771b4812b68dfc5bdc901321",
            "e855b42280094f31bd49892bc63b28f5",
            "7f58e88cc8ad44bca78cbeb054129afc",
            "305f321260de4f26acdfdf06b3c05b41",
            "7912c3a0169c4a5d8564586b728d7453",
            "8da9b851e226479ba76ce260fc4a6f64",
            "1882635646234919bf7d4eec76f21a07",
            "21e9b36cff44452d9c155595886e6172",
            "3f35651ae2894bb19dd16c2ea0ce1a05",
            "9ab783b02af54f43a5fc5dc16d1bb983",
            "a70192e250e641fba0244f738d4b17b4",
            "f7e34a511edb469587e2bef3e4f889e9",
            "e740dd17cb0f4875805afc7e17c6f6b5",
            "978538eabadd4142b519328a2af337d4",
            "d52f77bb1c1f40a49c6ed6074ec9a2b9",
            "104d995c1d374972bc7a50dad17054e4",
            "01588345f66645d4a0879a96e1cc5858",
            "7ce4f50a71514074bb7a671528d5ed44",
            "733eac971fed4dc792364a3bcea84485",
            "e0a18e6da8c947b4b48509911694e68b",
            "55bddad53e744774944d747ad41a0299",
            "450bc572f2104391b8db7c5411c8d6bb",
            "d427aa5a061b48719756b1089dcf4112",
            "383ec45431274c78bfa9e88511471081",
            "26800e6941de478893707882a7584284",
            "90ac6e6344924f8590aae01ab656335e",
            "8948fb1306744f82bcbbd73e9ae3686d",
            "f06b2f2ca19d4c00b411fa8e28c3e3ef",
            "62354ab4f3874b2a8726f8232c2b049f",
            "4e45a4df999945f0aa984853e48d667a",
            "d01c339b42744fe4a3681a8660f2e5fc",
            "1cb3adb3e2de4ff9bb2bfe169d55d567",
            "e362cc96591e4ceba18f3eef9868f488",
            "950f1f4024ef440babecfcde9f2139b4",
            "680f4fd682fe40cb916d48a9dbb964fd",
            "a6bb166d81d3441eabe1944f036875d0",
            "5fcfcfec0ec340f4bba957bcbf12721f",
            "78ee20d837b34f04b3f2350cfa932148",
            "3f6f9773ae8446358f2071b35677dafa",
            "caa1913235ae4d57887604c116501712",
            "deb20ac211bb482fb28de8c679963d71",
            "afb77f135e6b49368cd467123c05aa81",
            "6437fbe7af594237a6a692acbb7c05e3",
            "629fd37017b14d068c3591ea951c5c00",
            "ddae64ab3f5e456ea95e9cbef17852e1",
            "ab8250b42548405982d7153baf923f6b",
            "dfffa78311e941f2bcf35264f0c35231",
            "65ae0aabf166486cb9e22a822c445cec",
            "3caef32993b14141b1669069239c1049",
            "f1979327769b444dbd63deea2c1b7ed6",
            "2c38ad567c7f44538a95baa4d289a8cb",
            "c086f594278d406c8f826c5704b3f691",
            "70aa4391e2304db196c9827d59298446",
            "329969c6f2e44fe09218af73cae080fe",
            "90d553da3f2342e88dba732d388fbca7",
            "294cd43ddd7d47e5b00a193af1ab56ec",
            "3fce3f660af04db38210430980da24ef",
            "b1d3a1a774ad4944a8b6865994b178c5",
            "ae120e8c8b7849678da8cbde33576510",
            "a414eda5c7aa4274b34b88f01fe0c606",
            "8b5d114f37014507be2c78e08502d470",
            "8680f2dd886e42ed9ed4acfb84b7a001",
            "aa8ca70f79654b84bd10ea824be58596",
            "82b964487ec44f10a4c2803eda13f326",
            "30274897c5dc47ca83736d4edb320cda",
            "f632039a57734690b18a4cff47479e7f",
            "5b3a7c05f3be47689300e49ad5613c65",
            "40b0cc5f6ecc4e019fbdc20596d2afbe",
            "bbf5a27bdcc54b668bae7d436cd222c0",
            "7c92b698aabd4a59a5f8f7a659ecf642",
            "cea99e429dbf41739b6f9572c38a9bea",
            "e88a6808771d4ec58f54c91eb25a18f5",
            "e7ab45559a144980b6f788f317e6a267",
            "edfd452798dc40a9aef7cfd8377f71c2",
            "b3336d166a0a4de0883f65216e4daad5",
            "f90feca2feaf4ec0a6b66d455a09bc8f",
            "e9c760b277e54a13a686fb8e792cb719",
            "0b57e9236c994863bd012d0ef11562e2",
            "71feefa1ef9743438f3ae1094ee0d363",
            "dac35c1947154fb4a0900b8c2269c761",
            "8c5c4b30cf164764a291f222d09f1b74",
            "03f811e712324729aa1a444d175e7580",
            "68956c0e8a6f4a7789ff9723b683c5e6",
            "df5814095e924095b5050dfea577254f",
            "4ce798b4fd6046c2af9b20cc2ef405d7",
            "a3c9d70bfd5d465fb3a5f9766e5f7ac1",
            "6d250fd229704c65a390d142d90a1864",
            "959813f634a944c0b117dd836f916751",
            "973432c24e3c48fd957659f54fb7a1eb",
            "9dc22542ee034d2aa0b03467c9f46efb",
            "c9b0869863974de2b383797717dc79b4",
            "e153e46e091d4876b23a14b8ff4010cb",
            "7ae5d5851aa443578d775c05300608c8",
            "9d400522bbf845f3aae80030e5345df4",
            "52c30b0194124d588e1bfd4df135958c",
            "01000a7655c94cbf8409fd431ef5c829",
            "0bfed608005d46299e4c0434ece5cc85",
            "9b4041b3bbd1499d96c66ce6c56fcb93",
            "24f651ead93b43d1ab763757bc74c089",
            "a589ba3bb1fe47e49dc60c3cd3e54534",
            "c465bc3fbe894eb4abe455912c494e2c",
            "e445a180dbb347db87b9099ace24b017",
            "d96399f4b6f6422b986f0c5a11db1eb3",
            "82dd06795770463a8bf9c2011c7d85cc",
            "6c9dbb33dbf94d34a6397d0832c2a4da",
            "c982b426deea4b06b08172320872e63c",
            "7fbb0c23eedf4c8da6554c03d3d4834a",
            "64c8f9f206334fa4ac843f980fb0c897",
            "4b1b30676fb54cd2ae469bbdcb446c7c",
            "386cbb60905c4383b08b889f75d98bc8",
            "ac5f3dfc25174d888a1c7ca23f09e61a",
            "6613cf4dbf26407b97c88ecced250153",
            "88a93de42a6d42db9f8fa02ce1c825bd",
            "40699a64fadc462a837249b7f5bef2ed",
            "5cdfee9af04d4cffbf5b13dbaa0d03f4",
            "dcb4ca71757d4d4680e088233e517e2c",
            "bd4dea0b3c6149d3a75cd0c0462e28f4",
            "cf9f56ac971c408fbc3764fc370c030e",
            "68803ec3bf1d48d4844aa7ca68912d5a",
            "39f2b88708fa44058a9ad902e2ded401",
            "45415d4fef084bb1b34321bf0257b268",
            "56595755a0d7433f93128b3b35e744e4",
            "b4dd375977f64136a40c8d1d135e54d5",
            "a21d997929814473baeea0e00a93d31a",
            "b99d79b490b5484a9e8cfaa5eeb9635b",
            "b7e575a4bad04e15aea6c3a85c18ea2e",
            "2f98c5d120284a6a81861321583ee054",
            "08205ec2abae4370b51820df73e60709",
            "ff4e9aff533745c78a1cb3ae9a96546a",
            "39b210d73f704fa4a75f798d681397a5",
            "81eedb94a50d41d592ab1267e8d0ae27",
            "fb9c50714de74cd0804a27a6462491df",
            "853cb8810c274902ba8ab06ce795125c",
            "b5c693ddd3ce48e39d465b3625b536f4",
            "f0c55d43511545bdb706939b093d1604",
            "ab9d20a560c04e8cab1b0ac66a89e09e",
            "01364c0b84dd4a95a0eb78e0e14034a9",
            "597de8ff618b49a299f4d65880a57f4e",
            "319169036b014429949baa7b7ae1eaf2",
            "de4d74f75f174ee491d9d2c4416725f6",
            "ba56c249aa7d4b19a8b97d5f5eff952f",
            "220adff124d84c78b714ca6f750af0ec",
            "3d31f61738664824a35a5ba3a877c643",
            "9a932b8d5b704f3382dc92d10ead6397",
            "ae506dadedc54e2499ac19ac348cd9e7",
            "b69bbdbf15ba4d298bbd55d1b36e78bc",
            "a311e22fdd2a42b6999ffefeb9cdfad6",
            "08d56622fb984fe0ba55e8f0ec3af033",
            "468c5126aa1c4a56925a376e5eb57b31",
            "bb7038cc73394962af9ab9678f5c0185",
            "7537e07cf13b48c09c6e721438c48be9",
            "0ed0a82a2cae404eb9afd955a0a68827",
            "624c8403677a41d49a9ca4337bf1b625",
            "b3eb513bf8b24651b84a425c1ea0f0c4",
            "87e040d1a418463a8f3dd66d21107242",
            "4b2b4c1f878d44a99fd49033a87b30ca",
            "38f9fbed50b3491eba4a4350f2ab3ee7",
            "3bd9d91b2a224e0387481094fe4a40b5",
            "02a77f8f104c4236b67d16cdc5181644",
            "ec08635518e6474d8f97118cf9795347",
            "23d958ed50a34fc3aa9c24a8aee8c2a9",
            "7e290ca67b4140619b1b3c293e1e22ee",
            "b4301a83dfee470fb7a64b0e492a4847",
            "d2b7f3bbec054a9b8449cbda6416e621",
            "c5dabf0ff7d64ddbb074cef8a397945a",
            "9b7d3bc478c448dba9b53f27fd336d4f",
            "ff8abadaf6eb4c31a3796be3c2003ee4",
            "b5e2b962d28140c5a4d251c1c0eaa17b",
            "c34b3f1eb62f429e96f9e58a9d68679a",
            "049b8c77d2634165a20196809876dab7",
            "445cc4916d744d8d81e70af04069aac7",
            "1108da77875c433ebd2133ddd70f825e",
            "28c6daa3539f483f9520fd786e92c570",
            "bc9afd3ca28148e2a5d905a55149b6f0",
            "3ed5f520533a48c3b5aa1eef3e7dd1b9",
            "eb129cd13bca4a699a1c92d1dce86d80",
            "2e9f88b67e084a7fa21c4b023f2299ce",
            "1f21791a21a1488b9f29ed006fcd85e0",
            "4459ccd277e54f128437d00425568e08",
            "7b65c48bb01b426eb0aa98efc1a69cff",
            "3d6070e6d2de488cb2c5aed9ca98d27a",
            "c51041f5807d4a19a8ff71f3e1ea677d",
            "a32a0a0afe394ce2bdbcaf3f2f7955e5",
            "80f0901182824ed1b978b28f8f6dc4f8",
            "29be7c0a150c449391b87724886952c3",
            "5cab08641fe6447185fc9c4f17d373d7",
            "186922b016994561b8504b14a7d4bc99",
            "e72b2618fe2d44b49c9e6716b230299f",
            "2e542a7c5f8e4b01b7ae97b9cb0cdb75",
            "07f001a5b2ca4e6d8d234000ff300a28",
            "21eae7f789aa40ab8c29902f17894eaa",
            "4f9b9606a6a5474299edeaaa467796cd",
            "b9832c2b747440108167f75e10485375",
            "6cac6671a1af45e2b12a3f8d489b89a8",
            "496974d40fb741bd8dc7b4991448a98a",
            "c69359e850a141b098f49183b4414320",
            "731988d219c24566b65ef9a214147ec9",
            "267ecb8462be4647b1bf2b309b29ee91",
            "c4e2297c77074497a40e34e8c3b6b31c",
            "440dedc2df114bdda68f0d1564318133",
            "a4f70c390af9425e9d924dc6fa1b0897",
            "8ea2f10e3f9649d19a9899c9c8682f2e",
            "589b6d80a86841238d2f1e929f83d4c4",
            "5c6bccf981f0498891a60df108f58561",
            "b9a65b881b8d41e9bd36e955faf78fb0",
            "e377d6f44e744cf68895b383a65d9382",
            "ec153258e3a245afb17d305ccc1c04fa",
            "0c46ae7e7f924e318563c46bdabbd8de",
            "3f8f4a0c710f4525bcc2ef338dfb4ab9",
            "a08512ce55944faf9dbfef85eaad2155",
            "3af1c45431a64fc4887831a67bf6b0f1",
            "1ac51877b31841fc81d324b8006b11fd",
            "a1407a1d51874e2eac4af15656b28a53",
            "e6faa66111fc492397f7ee78cc34eb4d",
            "de7284454f0947228661cc6f4a7eef9e",
            "e083e23e99d94873a67207e79ae490f2",
            "3cd14fb718df411581076878c019e390",
            "c2ca7bb1853b4703a3e571c2cfd92851",
            "0731ad7a6bb2425bb2384c4558f3000c",
            "82db3b0fbf8d42b5819fb75e416cf2d8",
            "8d61f76c789247d898047ee877b1f919",
            "62e2c4c3c55e4a2b9b3288c662857333",
            "6fe54e3a53444a6ea908df9b2595e6e1",
            "2ec0bffe46314d169d78302399255732",
            "1b9eecbf5c564008847cfcce5c977484",
            "f6c568e5fd5e4833962b5e84804070f9",
            "57cefd44164c47d382709cbd15c9766e",
            "a7e083027de4401f89ab58ab3c918114",
            "b5b553f648ce421ea2159901b0d8bde2",
            "86800e25f302474ca348fa29104eeb44",
            "0b6b04e8d0874871872176ae1b8e0582",
            "cb9d148d965f4f4d962d1e0d54c8e95d",
            "6d881d0db485480681559a4ee64f3cb4",
            "fe6356a01262401db2adf1e84197ba09",
            "ab1cbe86a2b94e1f819b52b31546b553",
            "e778bbc76a18413d9b4b867714d8fae0",
            "550b712a735546e29232c1f265ee2909",
            "24a93cc9e92141d4a7449d052ff6a0b2",
            "6261e9a0d5fe4f7b9b6ac3c0948d84f8",
            "5e1a62ce6dad4794ab90b80780b70c87",
            "455274204d554623b8860b869fcacf79",
            "41a77ff806dc4cb08d4849cd8495c460",
            "11f3691330844e65a00af041889e9653",
            "c02b09b0927a4302a0670d24fb967416",
            "f78b409241394d56b38b8f04d026a283",
            "37b5dbb6ef18411e94870baf482888f2",
            "ddcdc793406c4c6285690f38e703e300",
            "e71b00ba02cb44e2be51ba25f9bd3e8e",
            "868a884bab564ffcaaa3c41c41a08ef7",
            "a3e06133ed0a406ab1bc93f4411be81c",
            "03b9383c01f04c90b3c5661bd077ac93",
            "4bd5f45af3a74e5bb066226181f726cb",
            "08159cf721424b87b907f94644f74a76",
            "fed05cdf715945d499b85c5e7f2abbc9",
            "8932fbec4a4d49828ee800a1a0244c43",
            "52663081908b451a99b1352ec32ba2ae",
            "f877c1484ce54f86a9ca15960888fd53",
            "21ba6a16ec73447895e3d8016083eb0c",
            "2a84beb49e5d4c71bec7afae82458208",
            "ba10ac59918d4c0aa84e0005b01a0c34",
            "7444f4f4f35c455fa1da2271bccdfd9d",
            "9a694d461ce8445b99452381976f1d47",
            "3927c872393f42fba432f7eb46ba2df2",
            "925320b4ce9e499883da3cd5ca44a478",
            "7a2a6873d0404501be31cc11c64f5977",
            "980a8d2dd7024348871173574c88b3f6",
            "03661ac41b2445e9ab2b06721e112fea",
            "b15be67bec404bfc8c54d0750f04dadc",
            "e2cec38d8e2d4e1d8b9334b63cb938bf",
            "70ce1c6b82b34e719d5abd33a5d8493f",
            "e6df985344bf4b1f8391448bd8591f5f",
            "4561c06e495f46e3a600907436883972",
            "987dd38cf2004124acf358c9470ba549",
            "61d2020430874e6593289fb54d3aec15",
            "9939c486184543f296f8fc2d55f8717a",
            "f9f12b4b7dfe4f9288bec21d02654d62",
            "d43e0cb5f4504251983c6720673e719b",
            "1e4e705e350f4759a191f8f0f2ae8c6d",
            "4e1d8778b7b34e73b890706e8beb70e7",
            "20b412dd23884b71858a46ed7f3b9652",
            "59f7ea25a6b146eebfa7688feb3d0b70",
            "3b2b55c7f1c54a289a1b5533c02cf63f",
            "195f44efe82e4b0f9b4129d228d617d7",
            "457c8764a2984123ab547fdc769a7a36",
            "1e1ac07631694ae0af54b918e984da58",
            "f2fc1232727c4f828994ba44a393e28c",
            "0ac4cbefc5c84bae834d9ffb30def3fe",
            "c596e5a39629463aacf24f59d15a9848",
            "9569a2e7567748a183e449831b291f0c",
            "e672dc5febd9449ab87bf8139f6be9f3",
            "c14be6b87913448097d2d4ab3752092f",
            "d7ec014b2e5244ee8516262432bf2f27",
            "b992519af5164e5a836dabddb64be450",
            "db4a8eccebd04fe0a5d83ca55e181c65",
            "e8282715c3cb4c1db4510c7a91e0751a",
            "25fac4474e9f446ab6b8324668ab9568",
            "6fc2a4dfc157478b832d08385a607c13",
            "073b3a85471141e0b53f64f8c5c36d4c",
            "b7ff8875cc1b4eacb1eaae794cb10a93",
            "6fe7c7b9b7db466e8fb6c2fcd6708ce7",
            "ac6fd84a20fb42c19254fd4b43e89d38",
            "b7bf327fd7a646c9bec0eb40f6c33f26",
            "2e6cc693b3e54f82b180c262089401a8",
            "0585178c627a45ed80db1067d1359fe5",
            "044b081f02a34298b9b263d84af05253",
            "7d38bd0440eb455cacb5e0c0b190733c",
            "11623652be3542f591e44d46d84401f4",
            "71f1bd91925f4cf78827b7607e50a90b",
            "b0331fec6e0c42549bbb46078e8cf65d",
            "0d5b1dc6c2a94677afd2f361a0b44f59",
            "4bb5762a36cb47e9b893009d67cbc124",
            "1a9441a1a5d148eba50f2fbc930472f3",
            "6ef790941e0f4df78e3c9226573c362d",
            "971d1c9feacf4e69a159e28e4f1670e7",
            "909d285851114f7eb083ba15e08c8db4",
            "e197aed3e7c14fc88107810b29ed5da3",
            "05d1b98a37874e48872cc359b484bcd1",
            "9eb2394dd5724a7880e91ff1b70a42f3",
            "fac774b537914be9b886f495c5a05669",
            "99636ef1bc844e6f8d576401a4d3ce7a",
            "e2ca4bd594864f6cbaba99f8594ad6ad",
            "9839603c30e2410d88c17ff3b8083d9e",
            "74fdf14785dd47d781c82add038ffce8",
            "77451a620d3945fdafb456999a01b6b1",
            "2b34dc17151f49019e9ab60c2437702a",
            "0720fb78a76c4ffaa57a214b3aec5d15",
            "697b0efe1d2044769e5317f1af8d24f1",
            "d586d3fc76ec4497b818fd89bdeefa76",
            "e53f1862505342969eea9404de43ce93",
            "5bd76aaa775d4c8aa138c9c6c7d36d54",
            "e1aeb0c379994783a7acaa936f1c29f8",
            "e363a2b933504ffbb9d8ef9c30f50a3a",
            "3b858f8678bf4f5f8f9b4e4c8adcfd10",
            "db4f67b69e53409da0a722896d475bac",
            "56cfbfb025cd4414bec7a33475dff1cf",
            "6bf2057c371d4615986f2e914f109d56",
            "b0b4184968034b029a8033a8039cdfb8",
            "a8be3e162867476abeb0878dde993daa"
          ]
        },
        "id": "r9DZ8Mr0IyKq",
        "outputId": "2ebc411f-376e-4f2d-e194-a93ac478517c"
      },
      "outputs": [
        {
          "data": {
            "application/vnd.jupyter.widget-view+json": {
              "model_id": "af8c0b2310c44b53a362a132de512c85",
              "version_major": 2,
              "version_minor": 0
            },
            "text/plain": [
              "Epoch 1/50:   0%|          | 0/938 [00:00<?, ?it/s]"
            ]
          },
          "metadata": {},
          "output_type": "display_data"
        },
        {
          "data": {
            "application/vnd.jupyter.widget-view+json": {
              "model_id": "92e251510bc34f099b5fbf5682a26dca",
              "version_major": 2,
              "version_minor": 0
            },
            "text/plain": [
              "Epoch 2/50:   0%|          | 0/938 [00:00<?, ?it/s]"
            ]
          },
          "metadata": {},
          "output_type": "display_data"
        },
        {
          "data": {
            "application/vnd.jupyter.widget-view+json": {
              "model_id": "70061157db144f038cb5ed03ec7c3f7e",
              "version_major": 2,
              "version_minor": 0
            },
            "text/plain": [
              "Epoch 3/50:   0%|          | 0/938 [00:00<?, ?it/s]"
            ]
          },
          "metadata": {},
          "output_type": "display_data"
        },
        {
          "data": {
            "application/vnd.jupyter.widget-view+json": {
              "model_id": "a60f37b2b4484e0bac718e6bc36e7cbd",
              "version_major": 2,
              "version_minor": 0
            },
            "text/plain": [
              "Epoch 4/50:   0%|          | 0/938 [00:00<?, ?it/s]"
            ]
          },
          "metadata": {},
          "output_type": "display_data"
        },
        {
          "data": {
            "application/vnd.jupyter.widget-view+json": {
              "model_id": "4e927c5e6ece40c5ba9d4c482b2995ef",
              "version_major": 2,
              "version_minor": 0
            },
            "text/plain": [
              "Epoch 5/50:   0%|          | 0/938 [00:00<?, ?it/s]"
            ]
          },
          "metadata": {},
          "output_type": "display_data"
        },
        {
          "data": {
            "application/vnd.jupyter.widget-view+json": {
              "model_id": "697ae22c68524a1b9c38bbd2193cdb6a",
              "version_major": 2,
              "version_minor": 0
            },
            "text/plain": [
              "Epoch 6/50:   0%|          | 0/938 [00:00<?, ?it/s]"
            ]
          },
          "metadata": {},
          "output_type": "display_data"
        },
        {
          "data": {
            "application/vnd.jupyter.widget-view+json": {
              "model_id": "1a010ba26d724f47883a3f835399368c",
              "version_major": 2,
              "version_minor": 0
            },
            "text/plain": [
              "Epoch 7/50:   0%|          | 0/938 [00:00<?, ?it/s]"
            ]
          },
          "metadata": {},
          "output_type": "display_data"
        },
        {
          "data": {
            "application/vnd.jupyter.widget-view+json": {
              "model_id": "f256403d35594481b52771ce7c29ed9c",
              "version_major": 2,
              "version_minor": 0
            },
            "text/plain": [
              "Epoch 8/50:   0%|          | 0/938 [00:00<?, ?it/s]"
            ]
          },
          "metadata": {},
          "output_type": "display_data"
        },
        {
          "data": {
            "application/vnd.jupyter.widget-view+json": {
              "model_id": "ede067d7b1554ce499e1c484226c07d4",
              "version_major": 2,
              "version_minor": 0
            },
            "text/plain": [
              "Epoch 9/50:   0%|          | 0/938 [00:00<?, ?it/s]"
            ]
          },
          "metadata": {},
          "output_type": "display_data"
        },
        {
          "data": {
            "application/vnd.jupyter.widget-view+json": {
              "model_id": "811798255aa84574966ce5265e2b62da",
              "version_major": 2,
              "version_minor": 0
            },
            "text/plain": [
              "Epoch 10/50:   0%|          | 0/938 [00:00<?, ?it/s]"
            ]
          },
          "metadata": {},
          "output_type": "display_data"
        },
        {
          "data": {
            "image/png": "[encoded data removed]",
            "text/plain": [
              "<Figure size 600x600 with 1 Axes>"
            ]
          },
          "metadata": {},
          "output_type": "display_data"
        },
        {
          "data": {
            "application/vnd.jupyter.widget-view+json": {
              "model_id": "2f774ca22e89492f8d7ae741e393a752",
              "version_major": 2,
              "version_minor": 0
            },
            "text/plain": [
              "Epoch 11/50:   0%|          | 0/938 [00:00<?, ?it/s]"
            ]
          },
          "metadata": {},
          "output_type": "display_data"
        },
        {
          "data": {
            "application/vnd.jupyter.widget-view+json": {
              "model_id": "3c84a9e785814ed2a2eeb852ce2e05d6",
              "version_major": 2,
              "version_minor": 0
            },
            "text/plain": [
              "Epoch 12/50:   0%|          | 0/938 [00:00<?, ?it/s]"
            ]
          },
          "metadata": {},
          "output_type": "display_data"
        },
        {
          "data": {
            "application/vnd.jupyter.widget-view+json": {
              "model_id": "47d8ba661d6844b6aa545dcaac206b91",
              "version_major": 2,
              "version_minor": 0
            },
            "text/plain": [
              "Epoch 13/50:   0%|          | 0/938 [00:00<?, ?it/s]"
            ]
          },
          "metadata": {},
          "output_type": "display_data"
        },
        {
          "data": {
            "application/vnd.jupyter.widget-view+json": {
              "model_id": "489891a20f6f4c48baad78fa7fbb37d6",
              "version_major": 2,
              "version_minor": 0
            },
            "text/plain": [
              "Epoch 14/50:   0%|          | 0/938 [00:00<?, ?it/s]"
            ]
          },
          "metadata": {},
          "output_type": "display_data"
        },
        {
          "data": {
            "application/vnd.jupyter.widget-view+json": {
              "model_id": "f27d863d2bfa44c5b59032af3fff5ed2",
              "version_major": 2,
              "version_minor": 0
            },
            "text/plain": [
              "Epoch 15/50:   0%|          | 0/938 [00:00<?, ?it/s]"
            ]
          },
          "metadata": {},
          "output_type": "display_data"
        },
        {
          "data": {
            "application/vnd.jupyter.widget-view+json": {
              "model_id": "28bcaed9926040d3b40b3aca627927a9",
              "version_major": 2,
              "version_minor": 0
            },
            "text/plain": [
              "Epoch 16/50:   0%|          | 0/938 [00:00<?, ?it/s]"
            ]
          },
          "metadata": {},
          "output_type": "display_data"
        },
        {
          "data": {
            "application/vnd.jupyter.widget-view+json": {
              "model_id": "5decb24e02264f02b64b5e0b675f7ffc",
              "version_major": 2,
              "version_minor": 0
            },
            "text/plain": [
              "Epoch 17/50:   0%|          | 0/938 [00:00<?, ?it/s]"
            ]
          },
          "metadata": {},
          "output_type": "display_data"
        },
        {
          "data": {
            "application/vnd.jupyter.widget-view+json": {
              "model_id": "6720ee8c3626462880d8ab2d6db1b8b2",
              "version_major": 2,
              "version_minor": 0
            },
            "text/plain": [
              "Epoch 18/50:   0%|          | 0/938 [00:00<?, ?it/s]"
            ]
          },
          "metadata": {},
          "output_type": "display_data"
        },
        {
          "data": {
            "application/vnd.jupyter.widget-view+json": {
              "model_id": "7657fa6187ae4d838290091a0b537e3b",
              "version_major": 2,
              "version_minor": 0
            },
            "text/plain": [
              "Epoch 19/50:   0%|          | 0/938 [00:00<?, ?it/s]"
            ]
          },
          "metadata": {},
          "output_type": "display_data"
        },
        {
          "data": {
            "application/vnd.jupyter.widget-view+json": {
              "model_id": "434934f39c1a4965884cee8783c49216",
              "version_major": 2,
              "version_minor": 0
            },
            "text/plain": [
              "Epoch 20/50:   0%|          | 0/938 [00:00<?, ?it/s]"
            ]
          },
          "metadata": {},
          "output_type": "display_data"
        },
        {
          "data": {
            "application/vnd.jupyter.widget-view+json": {
              "model_id": "3f35651ae2894bb19dd16c2ea0ce1a05",
              "version_major": 2,
              "version_minor": 0
            },
            "text/plain": [
              "Epoch 21/50:   0%|          | 0/938 [00:00<?, ?it/s]"
            ]
          },
          "metadata": {},
          "output_type": "display_data"
        },
        {
          "data": {
            "application/vnd.jupyter.widget-view+json": {
              "model_id": "e0a18e6da8c947b4b48509911694e68b",
              "version_major": 2,
              "version_minor": 0
            },
            "text/plain": [
              "Epoch 22/50:   0%|          | 0/938 [00:00<?, ?it/s]"
            ]
          },
          "metadata": {},
          "output_type": "display_data"
        },
        {
          "data": {
            "application/vnd.jupyter.widget-view+json": {
              "model_id": "d01c339b42744fe4a3681a8660f2e5fc",
              "version_major": 2,
              "version_minor": 0
            },
            "text/plain": [
              "Epoch 23/50:   0%|          | 0/938 [00:00<?, ?it/s]"
            ]
          },
          "metadata": {},
          "output_type": "display_data"
        },
        {
          "data": {
            "application/vnd.jupyter.widget-view+json": {
              "model_id": "afb77f135e6b49368cd467123c05aa81",
              "version_major": 2,
              "version_minor": 0
            },
            "text/plain": [
              "Epoch 24/50:   0%|          | 0/938 [00:00<?, ?it/s]"
            ]
          },
          "metadata": {},
          "output_type": "display_data"
        },
        {
          "data": {
            "application/vnd.jupyter.widget-view+json": {
              "model_id": "70aa4391e2304db196c9827d59298446",
              "version_major": 2,
              "version_minor": 0
            },
            "text/plain": [
              "Epoch 25/50:   0%|          | 0/938 [00:00<?, ?it/s]"
            ]
          },
          "metadata": {},
          "output_type": "display_data"
        },
        {
          "data": {
            "application/vnd.jupyter.widget-view+json": {
              "model_id": "82b964487ec44f10a4c2803eda13f326",
              "version_major": 2,
              "version_minor": 0
            },
            "text/plain": [
              "Epoch 26/50:   0%|          | 0/938 [00:00<?, ?it/s]"
            ]
          },
          "metadata": {},
          "output_type": "display_data"
        },
        {
          "data": {
            "application/vnd.jupyter.widget-view+json": {
              "model_id": "b3336d166a0a4de0883f65216e4daad5",
              "version_major": 2,
              "version_minor": 0
            },
            "text/plain": [
              "Epoch 27/50:   0%|          | 0/938 [00:00<?, ?it/s]"
            ]
          },
          "metadata": {},
          "output_type": "display_data"
        },
        {
          "data": {
            "application/vnd.jupyter.widget-view+json": {
              "model_id": "a3c9d70bfd5d465fb3a5f9766e5f7ac1",
              "version_major": 2,
              "version_minor": 0
            },
            "text/plain": [
              "Epoch 28/50:   0%|          | 0/938 [00:00<?, ?it/s]"
            ]
          },
          "metadata": {},
          "output_type": "display_data"
        },
        {
          "data": {
            "application/vnd.jupyter.widget-view+json": {
              "model_id": "0bfed608005d46299e4c0434ece5cc85",
              "version_major": 2,
              "version_minor": 0
            },
            "text/plain": [
              "Epoch 29/50:   0%|          | 0/938 [00:00<?, ?it/s]"
            ]
          },
          "metadata": {},
          "output_type": "display_data"
        },
        {
          "data": {
            "application/vnd.jupyter.widget-view+json": {
              "model_id": "64c8f9f206334fa4ac843f980fb0c897",
              "version_major": 2,
              "version_minor": 0
            },
            "text/plain": [
              "Epoch 30/50:   0%|          | 0/938 [00:00<?, ?it/s]"
            ]
          },
          "metadata": {},
          "output_type": "display_data"
        },
        {
          "data": {
            "image/png": "[encoded data removed]",
            "text/plain": [
              "<Figure size 600x600 with 1 Axes>"
            ]
          },
          "metadata": {},
          "output_type": "display_data"
        },
        {
          "data": {
            "application/vnd.jupyter.widget-view+json": {
              "model_id": "68803ec3bf1d48d4844aa7ca68912d5a",
              "version_major": 2,
              "version_minor": 0
            },
            "text/plain": [
              "Epoch 31/50:   0%|          | 0/938 [00:00<?, ?it/s]"
            ]
          },
          "metadata": {},
          "output_type": "display_data"
        },
        {
          "data": {
            "application/vnd.jupyter.widget-view+json": {
              "model_id": "39b210d73f704fa4a75f798d681397a5",
              "version_major": 2,
              "version_minor": 0
            },
            "text/plain": [
              "Epoch 32/50:   0%|          | 0/938 [00:00<?, ?it/s]"
            ]
          },
          "metadata": {},
          "output_type": "display_data"
        },
        {
          "data": {
            "application/vnd.jupyter.widget-view+json": {
              "model_id": "ba56c249aa7d4b19a8b97d5f5eff952f",
              "version_major": 2,
              "version_minor": 0
            },
            "text/plain": [
              "Epoch 33/50:   0%|          | 0/938 [00:00<?, ?it/s]"
            ]
          },
          "metadata": {},
          "output_type": "display_data"
        },
        {
          "data": {
            "application/vnd.jupyter.widget-view+json": {
              "model_id": "0ed0a82a2cae404eb9afd955a0a68827",
              "version_major": 2,
              "version_minor": 0
            },
            "text/plain": [
              "Epoch 34/50:   0%|          | 0/938 [00:00<?, ?it/s]"
            ]
          },
          "metadata": {},
          "output_type": "display_data"
        },
        {
          "data": {
            "application/vnd.jupyter.widget-view+json": {
              "model_id": "b4301a83dfee470fb7a64b0e492a4847",
              "version_major": 2,
              "version_minor": 0
            },
            "text/plain": [
              "Epoch 35/50:   0%|          | 0/938 [00:00<?, ?it/s]"
            ]
          },
          "metadata": {},
          "output_type": "display_data"
        },
        {
          "data": {
            "application/vnd.jupyter.widget-view+json": {
              "model_id": "bc9afd3ca28148e2a5d905a55149b6f0",
              "version_major": 2,
              "version_minor": 0
            },
            "text/plain": [
              "Epoch 36/50:   0%|          | 0/938 [00:00<?, ?it/s]"
            ]
          },
          "metadata": {},
          "output_type": "display_data"
        },
        {
          "data": {
            "application/vnd.jupyter.widget-view+json": {
              "model_id": "29be7c0a150c449391b87724886952c3",
              "version_major": 2,
              "version_minor": 0
            },
            "text/plain": [
              "Epoch 37/50:   0%|          | 0/938 [00:00<?, ?it/s]"
            ]
          },
          "metadata": {},
          "output_type": "display_data"
        },
        {
          "data": {
            "application/vnd.jupyter.widget-view+json": {
              "model_id": "c69359e850a141b098f49183b4414320",
              "version_major": 2,
              "version_minor": 0
            },
            "text/plain": [
              "Epoch 38/50:   0%|          | 0/938 [00:00<?, ?it/s]"
            ]
          },
          "metadata": {},
          "output_type": "display_data"
        },
        {
          "data": {
            "application/vnd.jupyter.widget-view+json": {
              "model_id": "ec153258e3a245afb17d305ccc1c04fa",
              "version_major": 2,
              "version_minor": 0
            },
            "text/plain": [
              "Epoch 39/50:   0%|          | 0/938 [00:00<?, ?it/s]"
            ]
          },
          "metadata": {},
          "output_type": "display_data"
        },
        {
          "data": {
            "application/vnd.jupyter.widget-view+json": {
              "model_id": "c2ca7bb1853b4703a3e571c2cfd92851",
              "version_major": 2,
              "version_minor": 0
            },
            "text/plain": [
              "Epoch 40/50:   0%|          | 0/938 [00:00<?, ?it/s]"
            ]
          },
          "metadata": {},
          "output_type": "display_data"
        },
        {
          "data": {
            "application/vnd.jupyter.widget-view+json": {
              "model_id": "b5b553f648ce421ea2159901b0d8bde2",
              "version_major": 2,
              "version_minor": 0
            },
            "text/plain": [
              "Epoch 41/50:   0%|          | 0/938 [00:00<?, ?it/s]"
            ]
          },
          "metadata": {},
          "output_type": "display_data"
        },
        {
          "data": {
            "application/vnd.jupyter.widget-view+json": {
              "model_id": "5e1a62ce6dad4794ab90b80780b70c87",
              "version_major": 2,
              "version_minor": 0
            },
            "text/plain": [
              "Epoch 42/50:   0%|          | 0/938 [00:00<?, ?it/s]"
            ]
          },
          "metadata": {},
          "output_type": "display_data"
        },
        {
          "data": {
            "application/vnd.jupyter.widget-view+json": {
              "model_id": "03b9383c01f04c90b3c5661bd077ac93",
              "version_major": 2,
              "version_minor": 0
            },
            "text/plain": [
              "Epoch 43/50:   0%|          | 0/938 [00:00<?, ?it/s]"
            ]
          },
          "metadata": {},
          "output_type": "display_data"
        },
        {
          "data": {
            "application/vnd.jupyter.widget-view+json": {
              "model_id": "9a694d461ce8445b99452381976f1d47",
              "version_major": 2,
              "version_minor": 0
            },
            "text/plain": [
              "Epoch 44/50:   0%|          | 0/938 [00:00<?, ?it/s]"
            ]
          },
          "metadata": {},
          "output_type": "display_data"
        },
        {
          "data": {
            "application/vnd.jupyter.widget-view+json": {
              "model_id": "987dd38cf2004124acf358c9470ba549",
              "version_major": 2,
              "version_minor": 0
            },
            "text/plain": [
              "Epoch 45/50:   0%|          | 0/938 [00:00<?, ?it/s]"
            ]
          },
          "metadata": {},
          "output_type": "display_data"
        },
        {
          "data": {
            "application/vnd.jupyter.widget-view+json": {
              "model_id": "457c8764a2984123ab547fdc769a7a36",
              "version_major": 2,
              "version_minor": 0
            },
            "text/plain": [
              "Epoch 46/50:   0%|          | 0/938 [00:00<?, ?it/s]"
            ]
          },
          "metadata": {},
          "output_type": "display_data"
        },
        {
          "data": {
            "application/vnd.jupyter.widget-view+json": {
              "model_id": "e8282715c3cb4c1db4510c7a91e0751a",
              "version_major": 2,
              "version_minor": 0
            },
            "text/plain": [
              "Epoch 47/50:   0%|          | 0/938 [00:00<?, ?it/s]"
            ]
          },
          "metadata": {},
          "output_type": "display_data"
        },
        {
          "data": {
            "application/vnd.jupyter.widget-view+json": {
              "model_id": "7d38bd0440eb455cacb5e0c0b190733c",
              "version_major": 2,
              "version_minor": 0
            },
            "text/plain": [
              "Epoch 48/50:   0%|          | 0/938 [00:00<?, ?it/s]"
            ]
          },
          "metadata": {},
          "output_type": "display_data"
        },
        {
          "data": {
            "application/vnd.jupyter.widget-view+json": {
              "model_id": "05d1b98a37874e48872cc359b484bcd1",
              "version_major": 2,
              "version_minor": 0
            },
            "text/plain": [
              "Epoch 49/50:   0%|          | 0/938 [00:00<?, ?it/s]"
            ]
          },
          "metadata": {},
          "output_type": "display_data"
        },
        {
          "data": {
            "application/vnd.jupyter.widget-view+json": {
              "model_id": "d586d3fc76ec4497b818fd89bdeefa76",
              "version_major": 2,
              "version_minor": 0
            },
            "text/plain": [
              "Epoch 50/50:   0%|          | 0/938 [00:00<?, ?it/s]"
            ]
          },
          "metadata": {},
          "output_type": "display_data"
        },
        {
          "data": {
            "image/png": "[encoded data removed]",
            "text/plain": [
              "<Figure size 600x600 with 1 Axes>"
            ]
          },
          "metadata": {},
          "output_type": "display_data"
        }
      ],
      "source": [
        "from tqdm.notebook import tqdm\n",
        "\n",
        "# Training Loop\n",
        "\n",
        "epochs = 50\n",
        "fixed_noise = torch.randn(25, 100, device=device)\n",
        "\n",
        "def show_generated_images(G, epoch):\n",
        "    G.eval()\n",
        "    with torch.no_grad():\n",
        "        fake_images = G(fixed_noise).detach().cpu()\n",
        "    G.train()\n",
        "    grid = torchvision.utils.make_grid(fake_images, nrow=5, normalize=True)\n",
        "    plt.figure(figsize=(6,6))\n",
        "    plt.title(f\"Epoch {epoch}\")\n",
        "    plt.imshow(np.transpose(grid, (1,2,0)))\n",
        "    plt.axis('off')\n",
        "    plt.show()\n",
        "\n",
        "for epoch in range(1, epochs + 1):\n",
        "    progress_bar = tqdm(dataloader, desc=f\"Epoch {epoch}/{epochs}\", leave=False)\n",
        "    for real, _ in progress_bar:\n",
        "        batch_size = real.size(0)\n",
        "        real = real.to(device)\n",
        "        noise = torch.randn(batch_size, 100, device=device)\n",
        "        fake = G(noise)\n",
        "\n",
        "        # Train Discriminator\n",
        "        D.zero_grad()\n",
        "        real_labels = torch.ones(batch_size, 1, device=device)\n",
        "        fake_labels = torch.zeros(batch_size, 1, device=device)\n",
        "\n",
        "        d_loss_real = criterion(D(real), real_labels)\n",
        "        d_loss_fake = criterion(D(fake.detach()), fake_labels)\n",
        "        d_loss = d_loss_real + d_loss_fake\n",
        "        d_loss.backward()\n",
        "        d_optimizer.step()\n",
        "\n",
        "        # Train Generator\n",
        "        G.zero_grad()\n",
        "        g_loss = criterion(D(fake), real_labels)\n",
        "        g_loss.backward()\n",
        "        g_optimizer.step()\n",
        "\n",
        "        # Optional: show losses in progress bar\n",
        "        progress_bar.set_postfix({\n",
        "            \"D_loss\": d_loss.item(),\n",
        "            \"G_loss\": g_loss.item()\n",
        "        })\n",
        "\n",
        "    if epoch in [10, 30, 50]:\n",
        "        show_generated_images(G, epoch)\n"
      ]
    },
    {
      "cell_type": "code",
      "execution_count": null,
      "metadata": {
        "colab": {
          "base_uri": "https://localhost:8080/"
        },
        "id": "YmCwKOrnh7YA",
        "outputId": "3811a172-778c-49fb-fdb7-72e1bf18192a"
      },
      "outputs": [
        {
          "name": "stdout",
          "output_type": "stream",
          "text": [
            "Reading package lists... Done\n",
            "Building dependency tree... Done\n",
            "Reading state information... Done\n",
            "The following additional packages will be installed:\n",
            "  libcmark-gfm-extensions0.29.0.gfm.3 libcmark-gfm0.29.0.gfm.3 pandoc-data\n",
            "Suggested packages:\n",
            "  texlive-latex-recommended texlive-xetex texlive-luatex pandoc-citeproc\n",
            "  texlive-latex-extra context wkhtmltopdf librsvg2-bin groff ghc nodejs php\n",
            "  python ruby libjs-mathjax libjs-katex citation-style-language-styles\n",
            "The following NEW packages will be installed:\n",
            "  libcmark-gfm-extensions0.29.0.gfm.3 libcmark-gfm0.29.0.gfm.3 pandoc\n",
            "  pandoc-data\n",
            "0 upgraded, 4 newly installed, 0 to remove and 34 not upgraded.\n",
            "Need to get 20.6 MB of archives.\n",
            "After this operation, 156 MB of additional disk space will be used.\n",
            "Get:1 http://archive.ubuntu.com/ubuntu jammy/universe amd64 libcmark-gfm0.29.0.gfm.3 amd64 0.29.0.gfm.3-3 [115 kB]\n",
            "Get:2 http://archive.ubuntu.com/ubuntu jammy/universe amd64 libcmark-gfm-extensions0.29.0.gfm.3 amd64 0.29.0.gfm.3-3 [25.1 kB]\n",
            "Get:3 http://archive.ubuntu.com/ubuntu jammy/universe amd64 pandoc-data all 2.9.2.1-3ubuntu2 [81.8 kB]\n",
            "Get:4 http://archive.ubuntu.com/ubuntu jammy/universe amd64 pandoc amd64 2.9.2.1-3ubuntu2 [20.3 MB]\n",
            "Fetched 20.6 MB in 1s (14.0 MB/s)\n",
            "Selecting previously unselected package libcmark-gfm0.29.0.gfm.3:amd64.\n",
            "(Reading database ... 126101 files and directories currently installed.)\n",
            "Preparing to unpack .../libcmark-gfm0.29.0.gfm.3_0.29.0.gfm.3-3_amd64.deb ...\n",
            "Unpacking libcmark-gfm0.29.0.gfm.3:amd64 (0.29.0.gfm.3-3) ...\n",
            "Selecting previously unselected package libcmark-gfm-extensions0.29.0.gfm.3:amd64.\n",
            "Preparing to unpack .../libcmark-gfm-extensions0.29.0.gfm.3_0.29.0.gfm.3-3_amd64.deb ...\n",
            "Unpacking libcmark-gfm-extensions0.29.0.gfm.3:amd64 (0.29.0.gfm.3-3) ...\n",
            "Selecting previously unselected package pandoc-data.\n",
            "Preparing to unpack .../pandoc-data_2.9.2.1-3ubuntu2_all.deb ...\n",
            "Unpacking pandoc-data (2.9.2.1-3ubuntu2) ...\n",
            "Selecting previously unselected package pandoc.\n",
            "Preparing to unpack .../pandoc_2.9.2.1-3ubuntu2_amd64.deb ...\n",
            "Unpacking pandoc (2.9.2.1-3ubuntu2) ...\n",
            "Setting up libcmark-gfm0.29.0.gfm.3:amd64 (0.29.0.gfm.3-3) ...\n",
            "Setting up libcmark-gfm-extensions0.29.0.gfm.3:amd64 (0.29.0.gfm.3-3) ...\n",
            "Setting up pandoc-data (2.9.2.1-3ubuntu2) ...\n",
            "Setting up pandoc (2.9.2.1-3ubuntu2) ...\n",
            "Processing triggers for man-db (2.10.2-1) ...\n",
            "Processing triggers for libc-bin (2.35-0ubuntu3.8) ...\n",
            "/sbin/ldconfig.real: /usr/local/lib/libtbb.so.12 is not a symbolic link\n",
            "\n",
            "/sbin/ldconfig.real: /usr/local/lib/libhwloc.so.15 is not a symbolic link\n",
            "\n",
            "/sbin/ldconfig.real: /usr/local/lib/libur_adapter_level_zero.so.0 is not a symbolic link\n",
            "\n",
            "/sbin/ldconfig.real: /usr/local/lib/libtbbbind_2_0.so.3 is not a symbolic link\n",
            "\n",
            "/sbin/ldconfig.real: /usr/local/lib/libtbbbind_2_5.so.3 is not a symbolic link\n",
            "\n",
            "/sbin/ldconfig.real: /usr/local/lib/libtcm.so.1 is not a symbolic link\n",
            "\n",
            "/sbin/ldconfig.real: /usr/local/lib/libtcm_debug.so.1 is not a symbolic link\n",
            "\n",
            "/sbin/ldconfig.real: /usr/local/lib/libtbbmalloc.so.2 is not a symbolic link\n",
            "\n",
            "/sbin/ldconfig.real: /usr/local/lib/libur_adapter_opencl.so.0 is not a symbolic link\n",
            "\n",
            "/sbin/ldconfig.real: /usr/local/lib/libumf.so.0 is not a symbolic link\n",
            "\n",
            "/sbin/ldconfig.real: /usr/local/lib/libtbbmalloc_proxy.so.2 is not a symbolic link\n",
            "\n",
            "/sbin/ldconfig.real: /usr/local/lib/libur_loader.so.0 is not a symbolic link\n",
            "\n",
            "/sbin/ldconfig.real: /usr/local/lib/libtbbbind.so.3 is not a symbolic link\n",
            "\n",
            "Reading package lists... Done\n",
            "Building dependency tree... Done\n",
            "Reading state information... Done\n",
            "The following additional packages will be installed:\n",
            "  dvisvgm fonts-droid-fallback fonts-lato fonts-lmodern fonts-noto-mono\n",
            "  fonts-texgyre fonts-urw-base35 libapache-pom-java libcommons-logging-java\n",
            "  libcommons-parent-java libfontbox-java libgs9 libgs9-common libidn12\n",
            "  libijs-0.35 libjbig2dec0 libkpathsea6 libpdfbox-java libptexenc1 libruby3.0\n",
            "  libsynctex2 libteckit0 libtexlua53 libtexluajit2 libwoff1 libzzip-0-13\n",
            "  lmodern poppler-data preview-latex-style rake ruby ruby-net-telnet\n",
            "  ruby-rubygems ruby-webrick ruby-xmlrpc ruby3.0 rubygems-integration t1utils\n",
            "  teckit tex-common tex-gyre texlive-base texlive-binaries texlive-latex-base\n",
            "  texlive-latex-extra texlive-pictures texlive-plain-generic tipa\n",
            "  xfonts-encodings xfonts-utils\n",
            "Suggested packages:\n",
            "  fonts-noto fonts-freefont-otf | fonts-freefont-ttf libavalon-framework-java\n",
            "  libcommons-logging-java-doc libexcalibur-logkit-java liblog4j1.2-java\n",
            "  poppler-utils ghostscript fonts-japanese-mincho | fonts-ipafont-mincho\n",
            "  fonts-japanese-gothic | fonts-ipafont-gothic fonts-arphic-ukai\n",
            "  fonts-arphic-uming fonts-nanum ri ruby-dev bundler debhelper gv\n",
            "  | postscript-viewer perl-tk xpdf | pdf-viewer xzdec\n",
            "  texlive-fonts-recommended-doc texlive-latex-base-doc python3-pygments\n",
            "  icc-profiles libfile-which-perl libspreadsheet-parseexcel-perl\n",
            "  texlive-latex-extra-doc texlive-latex-recommended-doc texlive-luatex\n",
            "  texlive-pstricks dot2tex prerex texlive-pictures-doc vprerex\n",
            "  default-jre-headless tipa-doc\n",
            "The following NEW packages will be installed:\n",
            "  dvisvgm fonts-droid-fallback fonts-lato fonts-lmodern fonts-noto-mono\n",
            "  fonts-texgyre fonts-urw-base35 libapache-pom-java libcommons-logging-java\n",
            "  libcommons-parent-java libfontbox-java libgs9 libgs9-common libidn12\n",
            "  libijs-0.35 libjbig2dec0 libkpathsea6 libpdfbox-java libptexenc1 libruby3.0\n",
            "  libsynctex2 libteckit0 libtexlua53 libtexluajit2 libwoff1 libzzip-0-13\n",
            "  lmodern poppler-data preview-latex-style rake ruby ruby-net-telnet\n",
            "  ruby-rubygems ruby-webrick ruby-xmlrpc ruby3.0 rubygems-integration t1utils\n",
            "  teckit tex-common tex-gyre texlive-base texlive-binaries\n",
            "  texlive-fonts-recommended texlive-latex-base texlive-latex-extra\n",
            "  texlive-latex-recommended texlive-pictures texlive-plain-generic\n",
            "  texlive-xetex tipa xfonts-encodings xfonts-utils\n",
            "0 upgraded, 53 newly installed, 0 to remove and 34 not upgraded.\n",
            "Need to get 182 MB of archives.\n",
            "After this operation, 571 MB of additional disk space will be used.\n",
            "Get:1 http://archive.ubuntu.com/ubuntu jammy/main amd64 fonts-droid-fallback all 1:6.0.1r16-1.1build1 [1,805 kB]\n",
            "Get:2 http://archive.ubuntu.com/ubuntu jammy/main amd64 fonts-lato all 2.0-2.1 [2,696 kB]\n",
            "Get:3 http://archive.ubuntu.com/ubuntu jammy/main amd64 poppler-data all 0.4.11-1 [2,171 kB]\n",
            "Get:4 http://archive.ubuntu.com/ubuntu jammy/universe amd64 tex-common all 6.17 [33.7 kB]\n",
            "Get:5 http://archive.ubuntu.com/ubuntu jammy/main amd64 fonts-urw-base35 all 20200910-1 [6,367 kB]\n",
            "Get:6 http://archive.ubuntu.com/ubuntu jammy-updates/main amd64 libgs9-common all 9.55.0~dfsg1-0ubuntu5.11 [753 kB]\n",
            "Get:7 http://archive.ubuntu.com/ubuntu jammy-updates/main amd64 libidn12 amd64 1.38-4ubuntu1 [60.0 kB]\n",
            "Get:8 http://archive.ubuntu.com/ubuntu jammy/main amd64 libijs-0.35 amd64 0.35-15build2 [16.5 kB]\n",
            "Get:9 http://archive.ubuntu.com/ubuntu jammy/main amd64 libjbig2dec0 amd64 0.19-3build2 [64.7 kB]\n",
            "Get:10 http://archive.ubuntu.com/ubuntu jammy-updates/main amd64 libgs9 amd64 9.55.0~dfsg1-0ubuntu5.11 [5,031 kB]\n",
            "Get:11 http://archive.ubuntu.com/ubuntu jammy-updates/main amd64 libkpathsea6 amd64 2021.20210626.59705-1ubuntu0.2 [60.4 kB]\n",
            "Get:12 http://archive.ubuntu.com/ubuntu jammy/main amd64 libwoff1 amd64 1.0.2-1build4 [45.2 kB]\n",
            "Get:13 http://archive.ubuntu.com/ubuntu jammy/universe amd64 dvisvgm amd64 2.13.1-1 [1,221 kB]\n",
            "Get:14 http://archive.ubuntu.com/ubuntu jammy/universe amd64 fonts-lmodern all 2.004.5-6.1 [4,532 kB]\n",
            "Get:15 http://archive.ubuntu.com/ubuntu jammy/main amd64 fonts-noto-mono all 20201225-1build1 [397 kB]\n",
            "Get:16 http://archive.ubuntu.com/ubuntu jammy/universe amd64 fonts-texgyre all 20180621-3.1 [10.2 MB]\n",
            "Get:17 http://archive.ubuntu.com/ubuntu jammy/universe amd64 libapache-pom-java all 18-1 [4,720 B]\n",
            "Get:18 http://archive.ubuntu.com/ubuntu jammy/universe amd64 libcommons-parent-java all 43-1 [10.8 kB]\n",
            "Get:19 http://archive.ubuntu.com/ubuntu jammy/universe amd64 libcommons-logging-java all 1.2-2 [60.3 kB]\n",
            "Get:20 http://archive.ubuntu.com/ubuntu jammy-updates/main amd64 libptexenc1 amd64 2021.20210626.59705-1ubuntu0.2 [39.1 kB]\n",
            "Get:21 http://archive.ubuntu.com/ubuntu jammy/main amd64 rubygems-integration all 1.18 [5,336 B]\n",
            "Get:22 http://archive.ubuntu.com/ubuntu jammy-updates/main amd64 ruby3.0 amd64 3.0.2-7ubuntu2.10 [50.1 kB]\n",
            "Get:23 http://archive.ubuntu.com/ubuntu jammy/main amd64 ruby-rubygems all 3.3.5-2 [228 kB]\n",
            "Get:24 http://archive.ubuntu.com/ubuntu jammy/main amd64 ruby amd64 1:3.0~exp1 [5,100 B]\n",
            "Get:25 http://archive.ubuntu.com/ubuntu jammy/main amd64 rake all 13.0.6-2 [61.7 kB]\n",
            "Get:26 http://archive.ubuntu.com/ubuntu jammy/main amd64 ruby-net-telnet all 0.1.1-2 [12.6 kB]\n",
            "Get:27 http://archive.ubuntu.com/ubuntu jammy-updates/main amd64 ruby-webrick all 1.7.0-3ubuntu0.1 [52.1 kB]\n",
            "Get:28 http://archive.ubuntu.com/ubuntu jammy-updates/main amd64 ruby-xmlrpc all 0.3.2-1ubuntu0.1 [24.9 kB]\n",
            "Get:29 http://archive.ubuntu.com/ubuntu jammy-updates/main amd64 libruby3.0 amd64 3.0.2-7ubuntu2.10 [5,114 kB]\n",
            "Get:30 http://archive.ubuntu.com/ubuntu jammy-updates/main amd64 libsynctex2 amd64 2021.20210626.59705-1ubuntu0.2 [55.6 kB]\n",
            "Get:31 http://archive.ubuntu.com/ubuntu jammy/universe amd64 libteckit0 amd64 2.5.11+ds1-1 [421 kB]\n",
            "Get:32 http://archive.ubuntu.com/ubuntu jammy-updates/main amd64 libtexlua53 amd64 2021.20210626.59705-1ubuntu0.2 [120 kB]\n",
            "Get:33 http://archive.ubuntu.com/ubuntu jammy-updates/main amd64 libtexluajit2 amd64 2021.20210626.59705-1ubuntu0.2 [267 kB]\n",
            "Get:34 http://archive.ubuntu.com/ubuntu jammy/universe amd64 libzzip-0-13 amd64 0.13.72+dfsg.1-1.1 [27.0 kB]\n",
            "Get:35 http://archive.ubuntu.com/ubuntu jammy/main amd64 xfonts-encodings all 1:1.0.5-0ubuntu2 [578 kB]\n",
            "Get:36 http://archive.ubuntu.com/ubuntu jammy/main amd64 xfonts-utils amd64 1:7.7+6build2 [94.6 kB]\n",
            "Get:37 http://archive.ubuntu.com/ubuntu jammy/universe amd64 lmodern all 2.004.5-6.1 [9,471 kB]\n",
            "Get:38 http://archive.ubuntu.com/ubuntu jammy/universe amd64 preview-latex-style all 12.2-1ubuntu1 [185 kB]\n",
            "Get:39 http://archive.ubuntu.com/ubuntu jammy/main amd64 t1utils amd64 1.41-4build2 [61.3 kB]\n",
            "Get:40 http://archive.ubuntu.com/ubuntu jammy/universe amd64 teckit amd64 2.5.11+ds1-1 [699 kB]\n",
            "Get:41 http://archive.ubuntu.com/ubuntu jammy/universe amd64 tex-gyre all 20180621-3.1 [6,209 kB]\n",
            "Get:42 http://archive.ubuntu.com/ubuntu jammy-updates/universe amd64 texlive-binaries amd64 2021.20210626.59705-1ubuntu0.2 [9,860 kB]\n",
            "Get:43 http://archive.ubuntu.com/ubuntu jammy/universe amd64 texlive-base all 2021.20220204-1 [21.0 MB]\n",
            "Get:44 http://archive.ubuntu.com/ubuntu jammy/universe amd64 texlive-fonts-recommended all 2021.20220204-1 [4,972 kB]\n",
            "Get:45 http://archive.ubuntu.com/ubuntu jammy/universe amd64 texlive-latex-base all 2021.20220204-1 [1,128 kB]\n",
            "Get:46 http://archive.ubuntu.com/ubuntu jammy/universe amd64 libfontbox-java all 1:1.8.16-2 [207 kB]\n",
            "Get:47 http://archive.ubuntu.com/ubuntu jammy/universe amd64 libpdfbox-java all 1:1.8.16-2 [5,199 kB]\n",
            "Get:48 http://archive.ubuntu.com/ubuntu jammy/universe amd64 texlive-latex-recommended all 2021.20220204-1 [14.4 MB]\n",
            "Get:49 http://archive.ubuntu.com/ubuntu jammy/universe amd64 texlive-pictures all 2021.20220204-1 [8,720 kB]\n",
            "Get:50 http://archive.ubuntu.com/ubuntu jammy/universe amd64 texlive-latex-extra all 2021.20220204-1 [13.9 MB]\n",
            "Get:51 http://archive.ubuntu.com/ubuntu jammy/universe amd64 texlive-plain-generic all 2021.20220204-1 [27.5 MB]\n",
            "Get:52 http://archive.ubuntu.com/ubuntu jammy/universe amd64 tipa all 2:1.3-21 [2,967 kB]\n",
            "Get:53 http://archive.ubuntu.com/ubuntu jammy/universe amd64 texlive-xetex all 2021.20220204-1 [12.4 MB]\n",
            "Fetched 182 MB in 5s (34.5 MB/s)\n",
            "Extracting templates from packages: 100%\n",
            "Preconfiguring packages ...\n",
            "Selecting previously unselected package fonts-droid-fallback.\n",
            "(Reading database ... 126326 files and directories currently installed.)\n",
            "Preparing to unpack .../00-fonts-droid-fallback_1%3a6.0.1r16-1.1build1_all.deb ...\n",
            "Unpacking fonts-droid-fallback (1:6.0.1r16-1.1build1) ...\n",
            "Selecting previously unselected package fonts-lato.\n",
            "Preparing to unpack .../01-fonts-lato_2.0-2.1_all.deb ...\n",
            "Unpacking fonts-lato (2.0-2.1) ...\n",
            "Selecting previously unselected package poppler-data.\n",
            "Preparing to unpack .../02-poppler-data_0.4.11-1_all.deb ...\n",
            "Unpacking poppler-data (0.4.11-1) ...\n",
            "Selecting previously unselected package tex-common.\n",
            "Preparing to unpack .../03-tex-common_6.17_all.deb ...\n",
            "Unpacking tex-common (6.17) ...\n",
            "Selecting previously unselected package fonts-urw-base35.\n",
            "Preparing to unpack .../04-fonts-urw-base35_20200910-1_all.deb ...\n",
            "Unpacking fonts-urw-base35 (20200910-1) ...\n",
            "Selecting previously unselected package libgs9-common.\n",
            "Preparing to unpack .../05-libgs9-common_9.55.0~dfsg1-0ubuntu5.11_all.deb ...\n",
            "Unpacking libgs9-common (9.55.0~dfsg1-0ubuntu5.11) ...\n",
            "Selecting previously unselected package libidn12:amd64.\n",
            "Preparing to unpack .../06-libidn12_1.38-4ubuntu1_amd64.deb ...\n",
            "Unpacking libidn12:amd64 (1.38-4ubuntu1) ...\n",
            "Selecting previously unselected package libijs-0.35:amd64.\n",
            "Preparing to unpack .../07-libijs-0.35_0.35-15build2_amd64.deb ...\n",
            "Unpacking libijs-0.35:amd64 (0.35-15build2) ...\n",
            "Selecting previously unselected package libjbig2dec0:amd64.\n",
            "Preparing to unpack .../08-libjbig2dec0_0.19-3build2_amd64.deb ...\n",
            "Unpacking libjbig2dec0:amd64 (0.19-3build2) ...\n",
            "Selecting previously unselected package libgs9:amd64.\n",
            "Preparing to unpack .../09-libgs9_9.55.0~dfsg1-0ubuntu5.11_amd64.deb ...\n",
            "Unpacking libgs9:amd64 (9.55.0~dfsg1-0ubuntu5.11) ...\n",
            "Selecting previously unselected package libkpathsea6:amd64.\n",
            "Preparing to unpack .../10-libkpathsea6_2021.20210626.59705-1ubuntu0.2_amd64.deb ...\n",
            "Unpacking libkpathsea6:amd64 (2021.20210626.59705-1ubuntu0.2) ...\n",
            "Selecting previously unselected package libwoff1:amd64.\n",
            "Preparing to unpack .../11-libwoff1_1.0.2-1build4_amd64.deb ...\n",
            "Unpacking libwoff1:amd64 (1.0.2-1build4) ...\n",
            "Selecting previously unselected package dvisvgm.\n",
            "Preparing to unpack .../12-dvisvgm_2.13.1-1_amd64.deb ...\n",
            "Unpacking dvisvgm (2.13.1-1) ...\n",
            "Selecting previously unselected package fonts-lmodern.\n",
            "Preparing to unpack .../13-fonts-lmodern_2.004.5-6.1_all.deb ...\n",
            "Unpacking fonts-lmodern (2.004.5-6.1) ...\n",
            "Selecting previously unselected package fonts-noto-mono.\n",
            "Preparing to unpack .../14-fonts-noto-mono_20201225-1build1_all.deb ...\n",
            "Unpacking fonts-noto-mono (20201225-1build1) ...\n",
            "Selecting previously unselected package fonts-texgyre.\n",
            "Preparing to unpack .../15-fonts-texgyre_20180621-3.1_all.deb ...\n",
            "Unpacking fonts-texgyre (20180621-3.1) ...\n",
            "Selecting previously unselected package libapache-pom-java.\n",
            "Preparing to unpack .../16-libapache-pom-java_18-1_all.deb ...\n",
            "Unpacking libapache-pom-java (18-1) ...\n",
            "Selecting previously unselected package libcommons-parent-java.\n",
            "Preparing to unpack .../17-libcommons-parent-java_43-1_all.deb ...\n",
            "Unpacking libcommons-parent-java (43-1) ...\n",
            "Selecting previously unselected package libcommons-logging-java.\n",
            "Preparing to unpack .../18-libcommons-logging-java_1.2-2_all.deb ...\n",
            "Unpacking libcommons-logging-java (1.2-2) ...\n",
            "Selecting previously unselected package libptexenc1:amd64.\n",
            "Preparing to unpack .../19-libptexenc1_2021.20210626.59705-1ubuntu0.2_amd64.deb ...\n",
            "Unpacking libptexenc1:amd64 (2021.20210626.59705-1ubuntu0.2) ...\n",
            "Selecting previously unselected package rubygems-integration.\n",
            "Preparing to unpack .../20-rubygems-integration_1.18_all.deb ...\n",
            "Unpacking rubygems-integration (1.18) ...\n",
            "Selecting previously unselected package ruby3.0.\n",
            "Preparing to unpack .../21-ruby3.0_3.0.2-7ubuntu2.10_amd64.deb ...\n",
            "Unpacking ruby3.0 (3.0.2-7ubuntu2.10) ...\n",
            "Selecting previously unselected package ruby-rubygems.\n",
            "Preparing to unpack .../22-ruby-rubygems_3.3.5-2_all.deb ...\n",
            "Unpacking ruby-rubygems (3.3.5-2) ...\n",
            "Selecting previously unselected package ruby.\n",
            "Preparing to unpack .../23-ruby_1%3a3.0~exp1_amd64.deb ...\n",
            "Unpacking ruby (1:3.0~exp1) ...\n",
            "Selecting previously unselected package rake.\n",
            "Preparing to unpack .../24-rake_13.0.6-2_all.deb ...\n",
            "Unpacking rake (13.0.6-2) ...\n",
            "Selecting previously unselected package ruby-net-telnet.\n",
            "Preparing to unpack .../25-ruby-net-telnet_0.1.1-2_all.deb ...\n",
            "Unpacking ruby-net-telnet (0.1.1-2) ...\n",
            "Selecting previously unselected package ruby-webrick.\n",
            "Preparing to unpack .../26-ruby-webrick_1.7.0-3ubuntu0.1_all.deb ...\n",
            "Unpacking ruby-webrick (1.7.0-3ubuntu0.1) ...\n",
            "Selecting previously unselected package ruby-xmlrpc.\n",
            "Preparing to unpack .../27-ruby-xmlrpc_0.3.2-1ubuntu0.1_all.deb ...\n",
            "Unpacking ruby-xmlrpc (0.3.2-1ubuntu0.1) ...\n",
            "Selecting previously unselected package libruby3.0:amd64.\n",
            "Preparing to unpack .../28-libruby3.0_3.0.2-7ubuntu2.10_amd64.deb ...\n",
            "Unpacking libruby3.0:amd64 (3.0.2-7ubuntu2.10) ...\n",
            "Selecting previously unselected package libsynctex2:amd64.\n",
            "Preparing to unpack .../29-libsynctex2_2021.20210626.59705-1ubuntu0.2_amd64.deb ...\n",
            "Unpacking libsynctex2:amd64 (2021.20210626.59705-1ubuntu0.2) ...\n",
            "Selecting previously unselected package libteckit0:amd64.\n",
            "Preparing to unpack .../30-libteckit0_2.5.11+ds1-1_amd64.deb ...\n",
            "Unpacking libteckit0:amd64 (2.5.11+ds1-1) ...\n",
            "Selecting previously unselected package libtexlua53:amd64.\n",
            "Preparing to unpack .../31-libtexlua53_2021.20210626.59705-1ubuntu0.2_amd64.deb ...\n",
            "Unpacking libtexlua53:amd64 (2021.20210626.59705-1ubuntu0.2) ...\n",
            "Selecting previously unselected package libtexluajit2:amd64.\n",
            "Preparing to unpack .../32-libtexluajit2_2021.20210626.59705-1ubuntu0.2_amd64.deb ...\n",
            "Unpacking libtexluajit2:amd64 (2021.20210626.59705-1ubuntu0.2) ...\n",
            "Selecting previously unselected package libzzip-0-13:amd64.\n",
            "Preparing to unpack .../33-libzzip-0-13_0.13.72+dfsg.1-1.1_amd64.deb ...\n",
            "Unpacking libzzip-0-13:amd64 (0.13.72+dfsg.1-1.1) ...\n",
            "Selecting previously unselected package xfonts-encodings.\n",
            "Preparing to unpack .../34-xfonts-encodings_1%3a1.0.5-0ubuntu2_all.deb ...\n",
            "Unpacking xfonts-encodings (1:1.0.5-0ubuntu2) ...\n",
            "Selecting previously unselected package xfonts-utils.\n",
            "Preparing to unpack .../35-xfonts-utils_1%3a7.7+6build2_amd64.deb ...\n",
            "Unpacking xfonts-utils (1:7.7+6build2) ...\n",
            "Selecting previously unselected package lmodern.\n",
            "Preparing to unpack .../36-lmodern_2.004.5-6.1_all.deb ...\n",
            "Unpacking lmodern (2.004.5-6.1) ...\n",
            "Selecting previously unselected package preview-latex-style.\n",
            "Preparing to unpack .../37-preview-latex-style_12.2-1ubuntu1_all.deb ...\n",
            "Unpacking preview-latex-style (12.2-1ubuntu1) ...\n",
            "Selecting previously unselected package t1utils.\n",
            "Preparing to unpack .../38-t1utils_1.41-4build2_amd64.deb ...\n",
            "Unpacking t1utils (1.41-4build2) ...\n",
            "Selecting previously unselected package teckit.\n",
            "Preparing to unpack .../39-teckit_2.5.11+ds1-1_amd64.deb ...\n",
            "Unpacking teckit (2.5.11+ds1-1) ...\n",
            "Selecting previously unselected package tex-gyre.\n",
            "Preparing to unpack .../40-tex-gyre_20180621-3.1_all.deb ...\n",
            "Unpacking tex-gyre (20180621-3.1) ...\n",
            "Selecting previously unselected package texlive-binaries.\n",
            "Preparing to unpack .../41-texlive-binaries_2021.20210626.59705-1ubuntu0.2_amd64.deb ...\n",
            "Unpacking texlive-binaries (2021.20210626.59705-1ubuntu0.2) ...\n",
            "Selecting previously unselected package texlive-base.\n",
            "Preparing to unpack .../42-texlive-base_2021.20220204-1_all.deb ...\n",
            "Unpacking texlive-base (2021.20220204-1) ...\n",
            "Selecting previously unselected package texlive-fonts-recommended.\n",
            "Preparing to unpack .../43-texlive-fonts-recommended_2021.20220204-1_all.deb ...\n",
            "Unpacking texlive-fonts-recommended (2021.20220204-1) ...\n",
            "Selecting previously unselected package texlive-latex-base.\n",
            "Preparing to unpack .../44-texlive-latex-base_2021.20220204-1_all.deb ...\n",
            "Unpacking texlive-latex-base (2021.20220204-1) ...\n",
            "Selecting previously unselected package libfontbox-java.\n",
            "Preparing to unpack .../45-libfontbox-java_1%3a1.8.16-2_all.deb ...\n",
            "Unpacking libfontbox-java (1:1.8.16-2) ...\n",
            "Selecting previously unselected package libpdfbox-java.\n",
            "Preparing to unpack .../46-libpdfbox-java_1%3a1.8.16-2_all.deb ...\n",
            "Unpacking libpdfbox-java (1:1.8.16-2) ...\n",
            "Selecting previously unselected package texlive-latex-recommended.\n",
            "Preparing to unpack .../47-texlive-latex-recommended_2021.20220204-1_all.deb ...\n",
            "Unpacking texlive-latex-recommended (2021.20220204-1) ...\n",
            "Selecting previously unselected package texlive-pictures.\n",
            "Preparing to unpack .../48-texlive-pictures_2021.20220204-1_all.deb ...\n",
            "Unpacking texlive-pictures (2021.20220204-1) ...\n",
            "Selecting previously unselected package texlive-latex-extra.\n",
            "Preparing to unpack .../49-texlive-latex-extra_2021.20220204-1_all.deb ...\n",
            "Unpacking texlive-latex-extra (2021.20220204-1) ...\n",
            "Selecting previously unselected package texlive-plain-generic.\n",
            "Preparing to unpack .../50-texlive-plain-generic_2021.20220204-1_all.deb ...\n",
            "Unpacking texlive-plain-generic (2021.20220204-1) ...\n",
            "Selecting previously unselected package tipa.\n",
            "Preparing to unpack .../51-tipa_2%3a1.3-21_all.deb ...\n",
            "Unpacking tipa (2:1.3-21) ...\n",
            "Selecting previously unselected package texlive-xetex.\n",
            "Preparing to unpack .../52-texlive-xetex_2021.20220204-1_all.deb ...\n",
            "Unpacking texlive-xetex (2021.20220204-1) ...\n",
            "Setting up fonts-lato (2.0-2.1) ...\n",
            "Setting up fonts-noto-mono (20201225-1build1) ...\n",
            "Setting up libwoff1:amd64 (1.0.2-1build4) ...\n",
            "Setting up libtexlua53:amd64 (2021.20210626.59705-1ubuntu0.2) ...\n",
            "Setting up libijs-0.35:amd64 (0.35-15build2) ...\n",
            "Setting up libtexluajit2:amd64 (2021.20210626.59705-1ubuntu0.2) ...\n",
            "Setting up libfontbox-java (1:1.8.16-2) ...\n",
            "Setting up rubygems-integration (1.18) ...\n",
            "Setting up libzzip-0-13:amd64 (0.13.72+dfsg.1-1.1) ...\n",
            "Setting up fonts-urw-base35 (20200910-1) ...\n",
            "Setting up poppler-data (0.4.11-1) ...\n",
            "Setting up tex-common (6.17) ...\n",
            "update-language: texlive-base not installed and configured, doing nothing!\n",
            "Setting up libjbig2dec0:amd64 (0.19-3build2) ...\n",
            "Setting up libteckit0:amd64 (2.5.11+ds1-1) ...\n",
            "Setting up libapache-pom-java (18-1) ...\n",
            "Setting up ruby-net-telnet (0.1.1-2) ...\n",
            "Setting up xfonts-encodings (1:1.0.5-0ubuntu2) ...\n",
            "Setting up t1utils (1.41-4build2) ...\n",
            "Setting up libidn12:amd64 (1.38-4ubuntu1) ...\n",
            "Setting up fonts-texgyre (20180621-3.1) ...\n",
            "Setting up libkpathsea6:amd64 (2021.20210626.59705-1ubuntu0.2) ...\n",
            "Setting up ruby-webrick (1.7.0-3ubuntu0.1) ...\n",
            "Setting up fonts-lmodern (2.004.5-6.1) ...\n",
            "Setting up fonts-droid-fallback (1:6.0.1r16-1.1build1) ...\n",
            "Setting up ruby-xmlrpc (0.3.2-1ubuntu0.1) ...\n",
            "Setting up libsynctex2:amd64 (2021.20210626.59705-1ubuntu0.2) ...\n",
            "Setting up libgs9-common (9.55.0~dfsg1-0ubuntu5.11) ...\n",
            "Setting up teckit (2.5.11+ds1-1) ...\n",
            "Setting up libpdfbox-java (1:1.8.16-2) ...\n",
            "Setting up libgs9:amd64 (9.55.0~dfsg1-0ubuntu5.11) ...\n",
            "Setting up preview-latex-style (12.2-1ubuntu1) ...\n",
            "Setting up libcommons-parent-java (43-1) ...\n",
            "Setting up dvisvgm (2.13.1-1) ...\n",
            "Setting up libcommons-logging-java (1.2-2) ...\n",
            "Setting up xfonts-utils (1:7.7+6build2) ...\n",
            "Setting up libptexenc1:amd64 (2021.20210626.59705-1ubuntu0.2) ...\n",
            "Setting up texlive-binaries (2021.20210626.59705-1ubuntu0.2) ...\n",
            "update-alternatives: using /usr/bin/xdvi-xaw to provide /usr/bin/xdvi.bin (xdvi.bin) in auto mode\n",
            "update-alternatives: using /usr/bin/bibtex.original to provide /usr/bin/bibtex (bibtex) in auto mode\n",
            "Setting up lmodern (2.004.5-6.1) ...\n",
            "Setting up texlive-base (2021.20220204-1) ...\n",
            "/usr/bin/ucfr\n",
            "/usr/bin/ucfr\n",
            "/usr/bin/ucfr\n",
            "/usr/bin/ucfr\n",
            "mktexlsr: Updating /var/lib/texmf/ls-R-TEXLIVEDIST... \n",
            "mktexlsr: Updating /var/lib/texmf/ls-R-TEXMFMAIN... \n",
            "mktexlsr: Updating /var/lib/texmf/ls-R... \n",
            "mktexlsr: Done.\n",
            "tl-paper: setting paper size for dvips to a4: /var/lib/texmf/dvips/config/config-paper.ps\n",
            "tl-paper: setting paper size for dvipdfmx to a4: /var/lib/texmf/dvipdfmx/dvipdfmx-paper.cfg\n",
            "tl-paper: setting paper size for xdvi to a4: /var/lib/texmf/xdvi/XDvi-paper\n",
            "tl-paper: setting paper size for pdftex to a4: /var/lib/texmf/tex/generic/tex-ini-files/pdftexconfig.tex\n",
            "Setting up tex-gyre (20180621-3.1) ...\n",
            "Setting up texlive-plain-generic (2021.20220204-1) ...\n",
            "Setting up texlive-latex-base (2021.20220204-1) ...\n",
            "Setting up texlive-latex-recommended (2021.20220204-1) ...\n",
            "Setting up texlive-pictures (2021.20220204-1) ...\n",
            "Setting up texlive-fonts-recommended (2021.20220204-1) ...\n",
            "Setting up tipa (2:1.3-21) ...\n",
            "Setting up texlive-latex-extra (2021.20220204-1) ...\n",
            "Setting up texlive-xetex (2021.20220204-1) ...\n",
            "Setting up rake (13.0.6-2) ...\n",
            "Setting up libruby3.0:amd64 (3.0.2-7ubuntu2.10) ...\n",
            "Setting up ruby3.0 (3.0.2-7ubuntu2.10) ...\n",
            "Setting up ruby (1:3.0~exp1) ...\n",
            "Setting up ruby-rubygems (3.3.5-2) ...\n",
            "Processing triggers for man-db (2.10.2-1) ...\n",
            "Processing triggers for mailcap (3.70+nmu1ubuntu1) ...\n",
            "Processing triggers for fontconfig (2.13.1-4.2ubuntu5) ...\n",
            "Processing triggers for libc-bin (2.35-0ubuntu3.8) ...\n",
            "/sbin/ldconfig.real: /usr/local/lib/libtbb.so.12 is not a symbolic link\n",
            "\n",
            "/sbin/ldconfig.real: /usr/local/lib/libhwloc.so.15 is not a symbolic link\n",
            "\n",
            "/sbin/ldconfig.real: /usr/local/lib/libur_adapter_level_zero.so.0 is not a symbolic link\n",
            "\n",
            "/sbin/ldconfig.real: /usr/local/lib/libtbbbind_2_0.so.3 is not a symbolic link\n",
            "\n",
            "/sbin/ldconfig.real: /usr/local/lib/libtbbbind_2_5.so.3 is not a symbolic link\n",
            "\n",
            "/sbin/ldconfig.real: /usr/local/lib/libtcm.so.1 is not a symbolic link\n",
            "\n",
            "/sbin/ldconfig.real: /usr/local/lib/libtcm_debug.so.1 is not a symbolic link\n",
            "\n",
            "/sbin/ldconfig.real: /usr/local/lib/libtbbmalloc.so.2 is not a symbolic link\n",
            "\n",
            "/sbin/ldconfig.real: /usr/local/lib/libur_adapter_opencl.so.0 is not a symbolic link\n",
            "\n",
            "/sbin/ldconfig.real: /usr/local/lib/libumf.so.0 is not a symbolic link\n",
            "\n",
            "/sbin/ldconfig.real: /usr/local/lib/libtbbmalloc_proxy.so.2 is not a symbolic link\n",
            "\n",
            "/sbin/ldconfig.real: /usr/local/lib/libur_loader.so.0 is not a symbolic link\n",
            "\n",
            "/sbin/ldconfig.real: /usr/local/lib/libtbbbind.so.3 is not a symbolic link\n",
            "\n",
            "Processing triggers for tex-common (6.17) ...\n",
            "Running updmap-sys. This may take some time... done.\n",
            "Running mktexlsr /var/lib/texmf ... done.\n",
            "Building format(s) --all.\n",
            "\tThis may take some time... done.\n",
            "[NbConvertApp] Converting notebook /content/drive/MyDrive/master year 1 section 2/deep learning/hw3/HW3-Q3.ipynb to pdf\n",
            "[NbConvertApp] Support files will be in HW3-Q3_files/\n",
            "[NbConvertApp] Making directory ./HW3-Q3_files\n",
            "[NbConvertApp] Writing 66295 bytes to notebook.tex\n",
            "[NbConvertApp] Building PDF\n",
            "[NbConvertApp] Running xelatex 3 times: ['xelatex', 'notebook.tex', '-quiet']\n",
            "[NbConvertApp] Running bibtex 1 time: ['bibtex', 'notebook']\n",
            "[NbConvertApp] WARNING | bibtex had problems, most likely because there were no citations\n",
            "[NbConvertApp] PDF successfully created\n",
            "[NbConvertApp] Writing 155049 bytes to /content/drive/MyDrive/master year 1 section 2/deep learning/hw3/HW3-Q3.pdf\n"
          ]
        }
      ],
      "source": [
        "# Install Pandoc\n",
        "!apt-get install pandoc -y\n",
        "\n",
        "# Install full LaTeX\n",
        "!apt-get install texlive-xetex texlive-fonts-recommended texlive-latex-recommended -y\n",
        "\n",
        "# 2. Convert the notebook to PDF\n",
        "!jupyter nbconvert --to pdf \"/content/drive/MyDrive/master year 1 section 2/deep learning/hw3/HW3-Q3.ipynb\""
      ]
    }
  ],
  "metadata": {
    "colab": {
      "machine_shape": "hm",
      "provenance": []
    },
    "kernelspec": {
      "display_name": "Python 3",
      "name": "python3"
    },
    "language_info": {
      "name": "python"
    }
  },
  "nbformat": 4,
  "nbformat_minor": 0
}
